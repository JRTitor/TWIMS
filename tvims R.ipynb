{
 "cells": [
  {
   "cell_type": "markdown",
   "metadata": {},
   "source": [
    "Вариант 23"
   ]
  },
  {
   "cell_type": "code",
   "execution_count": 1358,
   "metadata": {},
   "outputs": [],
   "source": [
    "import numpy as np\n",
    "from math import sqrt\n",
    "import seaborn as sns\n",
    "import matplotlib.pyplot as plt\n",
    "import scipy as sp\n",
    "N = 23"
   ]
  },
  {
   "cell_type": "code",
   "execution_count": 1359,
   "metadata": {},
   "outputs": [],
   "source": [
    "def norm(E_hat):\n",
    "    return np.sqrt(E_hat.T @ E_hat)\n",
    "\n",
    "n = 40  # количество элеентов\n",
    "sigma = sqrt(2.8)\n",
    "sigma2 = 2.8\n",
    "tetta_0 = (-1)**N * N\n",
    "tetta_1 = 5\n",
    "tetta_2 = 3\n",
    "tetta_3 = 0.13\n",
    "mu = 0\n",
    "k = np.arange(1, 41, 1, dtype=float)\n",
    "X = -4 + k * 8/n"
   ]
  },
  {
   "attachments": {},
   "cell_type": "markdown",
   "metadata": {},
   "source": [
    "# N"
   ]
  },
  {
   "cell_type": "code",
   "execution_count": 1360,
   "metadata": {},
   "outputs": [],
   "source": [
    "#E = np.random.uniform(-3*sigma, 3*sigma, n)\n",
    "#E.tofile('E_VEC_R.dat')\n",
    "\n",
    "E = np.fromfile('E_VEC_R.dat', dtype=float)\n",
    "Y_E = tetta_0 + tetta_1 * X + tetta_2 * (X ** 2)  + E #Рассматривается модель наблюдений\n",
    "Y = tetta_0 + tetta_1 * X + tetta_2 * (X ** 2)"
   ]
  },
  {
   "attachments": {},
   "cell_type": "markdown",
   "metadata": {},
   "source": [
    "## N1_0"
   ]
  },
  {
   "cell_type": "code",
   "execution_count": 1361,
   "metadata": {},
   "outputs": [],
   "source": [
    "X_1 = np.column_stack((np.ones(40, dtype=float), X))\n",
    "tetta_hat_1 = np.linalg.inv(X_1.T @ X_1) @ X_1.T @ Y_E\n",
    "E_hat_1 = Y_E - X_1 @ tetta_hat_1\n",
    "alpha_1 = np.linalg.inv(X_1.T @ X_1)[1][1]\n",
    "\n",
    "T_Y = (tetta_hat_1[1]) / ((np.sqrt(alpha_1) * norm(E_hat_1))) * np.sqrt(38)"
   ]
  },
  {
   "cell_type": "code",
   "execution_count": 1362,
   "metadata": {},
   "outputs": [
    {
     "name": "stdout",
     "output_type": "stream",
     "text": [
      "0 element\n",
      "[-4.58397855 -2.59198315 -1.35306424  4.09576205 -3.11197923 -4.87011372\n",
      " -4.12378416  4.17800069 -1.52750664 -3.01887717 -1.61551469 -1.77484922\n",
      "  3.44707189 -2.14240818  0.51800377  0.96771789 -4.25254351 -4.21918293\n",
      "  0.20286376 -2.6950548   3.52794612  2.95145602  0.97633355 -4.71779272\n",
      "  0.66949786  4.99326614  0.17248869 -3.99727918  3.17370891  0.28031611\n",
      " -0.23632299 -1.52210364  3.09183284  0.4702382   3.72268774 -0.25387267\n",
      "  3.45044962 -1.97958769  0.17223623  4.72964895]\n",
      "1 element\n",
      "[ 1.  2.  3.  4.  5.  6.  7.  8.  9. 10. 11. 12. 13. 14. 15. 16. 17. 18.\n",
      " 19. 20. 21. 22. 23. 24. 25. 26. 27. 28. 29. 30. 31. 32. 33. 34. 35. 36.\n",
      " 37. 38. 39. 40.]\n",
      "2 element\n",
      "[-3.8 -3.6 -3.4 -3.2 -3.  -2.8 -2.6 -2.4 -2.2 -2.  -1.8 -1.6 -1.4 -1.2\n",
      " -1.  -0.8 -0.6 -0.4 -0.2  0.   0.2  0.4  0.6  0.8  1.   1.2  1.4  1.6\n",
      "  1.8  2.   2.2  2.4  2.6  2.8  3.   3.2  3.4  3.6  3.8  4. ]\n",
      "3 element\n",
      "[  1.32  -2.12  -5.32  -8.28 -11.   -13.48 -15.72 -17.72 -19.48 -21.\n",
      " -22.28 -23.32 -24.12 -24.68 -25.   -25.08 -24.92 -24.52 -23.88 -23.\n",
      " -21.88 -20.52 -18.92 -17.08 -15.   -12.68 -10.12  -7.32  -4.28  -1.\n",
      "   2.52   6.28  10.28  14.52  19.    23.72  28.68  33.88  39.32  45.  ]\n",
      "4 element\n",
      "[[ 1.  -3.8]\n",
      " [ 1.  -3.6]\n",
      " [ 1.  -3.4]\n",
      " [ 1.  -3.2]\n",
      " [ 1.  -3. ]\n",
      " [ 1.  -2.8]\n",
      " [ 1.  -2.6]\n",
      " [ 1.  -2.4]\n",
      " [ 1.  -2.2]\n",
      " [ 1.  -2. ]\n",
      " [ 1.  -1.8]\n",
      " [ 1.  -1.6]\n",
      " [ 1.  -1.4]\n",
      " [ 1.  -1.2]\n",
      " [ 1.  -1. ]\n",
      " [ 1.  -0.8]\n",
      " [ 1.  -0.6]\n",
      " [ 1.  -0.4]\n",
      " [ 1.  -0.2]\n",
      " [ 1.   0. ]\n",
      " [ 1.   0.2]\n",
      " [ 1.   0.4]\n",
      " [ 1.   0.6]\n",
      " [ 1.   0.8]\n",
      " [ 1.   1. ]\n",
      " [ 1.   1.2]\n",
      " [ 1.   1.4]\n",
      " [ 1.   1.6]\n",
      " [ 1.   1.8]\n",
      " [ 1.   2. ]\n",
      " [ 1.   2.2]\n",
      " [ 1.   2.4]\n",
      " [ 1.   2.6]\n",
      " [ 1.   2.8]\n",
      " [ 1.   3. ]\n",
      " [ 1.   3.2]\n",
      " [ 1.   3.4]\n",
      " [ 1.   3.6]\n",
      " [ 1.   3.8]\n",
      " [ 1.   4. ]]\n",
      "5 element\n",
      "[-7.30858537  6.08678565]\n",
      "6 element\n",
      "[ 27.17439229  24.50903056  21.33059234  22.6020615   11.45696309\n",
      "   6.00147147   3.2904439    8.37487162  -0.30799284  -4.5367205\n",
      "  -5.63071515  -8.04740681  -4.84284283 -12.20968003 -11.08662521\n",
      " -11.93426822 -18.21188675 -18.9958833  -15.15119374 -18.38646943\n",
      " -12.26082564 -12.69467287 -14.28715247 -19.35863587 -13.10870242\n",
      "  -7.68229127 -11.16042585 -13.74755085  -4.75391989  -5.58466982\n",
      "  -3.79866605  -2.54180383   4.85477552   5.25582375  11.77091616\n",
      "  11.29699861  18.74396377  17.29656933  23.67103612  32.69109171]\n",
      "7 element\n",
      "0.004690431519699811\n",
      "8 element\n",
      "5.951280891478134\n"
     ]
    }
   ],
   "source": [
    "for i,el in enumerate([E, k, X, Y, X_1, tetta_hat_1, E_hat_1, alpha_1, T_Y]):\n",
    "    print(i, \"element\")\n",
    "    print(el)"
   ]
  },
  {
   "attachments": {},
   "cell_type": "markdown",
   "metadata": {},
   "source": [
    "5.951280891478134 > 2,02 продолжаем"
   ]
  },
  {
   "attachments": {},
   "cell_type": "markdown",
   "metadata": {},
   "source": [
    "## N1_1"
   ]
  },
  {
   "cell_type": "code",
   "execution_count": 1363,
   "metadata": {},
   "outputs": [],
   "source": [
    "X_2 = np.column_stack((np.ones(40, dtype=float), X, X**2))\n",
    "tetta_hat_2 = np.linalg.inv(X_2.T @ X_2) @ X_2.T @ Y_E\n",
    "E_hat_2 = Y_E - X_2 @ tetta_hat_2\n",
    "alpha_2 = np.linalg.inv(X_2.T @ X_2)[2][2]\n",
    "\n",
    "T_Y2 = (tetta_hat_2[2] ) / ((np.sqrt(alpha_2) * norm(E_hat_2))) * np.sqrt(37)"
   ]
  },
  {
   "cell_type": "code",
   "execution_count": 1364,
   "metadata": {},
   "outputs": [
    {
     "name": "stdout",
     "output_type": "stream",
     "text": [
      "0 element\n",
      "[[ 1.   -3.8  14.44]\n",
      " [ 1.   -3.6  12.96]\n",
      " [ 1.   -3.4  11.56]\n",
      " [ 1.   -3.2  10.24]\n",
      " [ 1.   -3.    9.  ]\n",
      " [ 1.   -2.8   7.84]\n",
      " [ 1.   -2.6   6.76]\n",
      " [ 1.   -2.4   5.76]\n",
      " [ 1.   -2.2   4.84]\n",
      " [ 1.   -2.    4.  ]\n",
      " [ 1.   -1.8   3.24]\n",
      " [ 1.   -1.6   2.56]\n",
      " [ 1.   -1.4   1.96]\n",
      " [ 1.   -1.2   1.44]\n",
      " [ 1.   -1.    1.  ]\n",
      " [ 1.   -0.8   0.64]\n",
      " [ 1.   -0.6   0.36]\n",
      " [ 1.   -0.4   0.16]\n",
      " [ 1.   -0.2   0.04]\n",
      " [ 1.    0.    0.  ]\n",
      " [ 1.    0.2   0.04]\n",
      " [ 1.    0.4   0.16]\n",
      " [ 1.    0.6   0.36]\n",
      " [ 1.    0.8   0.64]\n",
      " [ 1.    1.    1.  ]\n",
      " [ 1.    1.2   1.44]\n",
      " [ 1.    1.4   1.96]\n",
      " [ 1.    1.6   2.56]\n",
      " [ 1.    1.8   3.24]\n",
      " [ 1.    2.    4.  ]\n",
      " [ 1.    2.2   4.84]\n",
      " [ 1.    2.4   5.76]\n",
      " [ 1.    2.6   6.76]\n",
      " [ 1.    2.8   7.84]\n",
      " [ 1.    3.    9.  ]\n",
      " [ 1.    3.2  10.24]\n",
      " [ 1.    3.4  11.56]\n",
      " [ 1.    3.6  12.96]\n",
      " [ 1.    3.8  14.44]\n",
      " [ 1.    4.   16.  ]]\n",
      "1 element\n",
      "[-23.27668562   5.48648113   3.0015226 ]\n",
      "2 element\n",
      "[-2.48065104 -0.58369841  0.56005592  5.91359582 -1.38955366 -3.24321815\n",
      " -2.59254041  5.61347082 -0.18793194 -1.77531971 -0.46809627 -0.72369166\n",
      "  4.40184679 -1.28413776  1.27964791  1.63261394 -3.68451735 -3.74814848\n",
      "  0.5767847  -2.41836918  3.70727461  3.03330557  0.96058235 -4.83126647\n",
      "  0.45817974  4.68398185 -0.23488358 -4.50286124  2.56979526 -0.42205095\n",
      " -1.03726526 -2.42174293  2.09337472 -0.62716056  2.52622654 -1.54951813\n",
      "  2.0554981  -3.47396708 -1.42169284  3.03604839]\n",
      "3 element\n",
      "0.0011020750751174373\n",
      "4 element\n",
      "31.750976253830657\n"
     ]
    }
   ],
   "source": [
    "for i,el in enumerate([X_2, tetta_hat_2, E_hat_2, alpha_2, T_Y2]):\n",
    "    print(i, \"element\")\n",
    "    print(el)"
   ]
  },
  {
   "attachments": {},
   "cell_type": "markdown",
   "metadata": {},
   "source": [
    "75.93424470988369 > 2.02 нашли, продолжаем поиск"
   ]
  },
  {
   "attachments": {},
   "cell_type": "markdown",
   "metadata": {},
   "source": [
    "## N1_2"
   ]
  },
  {
   "cell_type": "code",
   "execution_count": 1365,
   "metadata": {},
   "outputs": [],
   "source": [
    "X_3 = np.column_stack((np.ones(40, dtype=float), X, X**2, X**3))\n",
    "tetta_hat_3 = np.linalg.inv(X_3.T @ X_3) @ X_3.T @ Y_E\n",
    "E_hat_3 = Y_E - X_3 @ tetta_hat_3\n",
    "alpha_3 = np.linalg.inv(X_3.T @ X_3)[3][3]\n",
    "\n",
    "T_Y3 = (tetta_hat_3[3]) / ((np.sqrt(alpha_3) * norm(E_hat_3))) * np.sqrt(36)"
   ]
  },
  {
   "cell_type": "code",
   "execution_count": 1366,
   "metadata": {},
   "outputs": [
    {
     "name": "stdout",
     "output_type": "stream",
     "text": [
      "0 element\n",
      "[[ 1.0000e+00 -3.8000e+00  1.4440e+01 -5.4872e+01]\n",
      " [ 1.0000e+00 -3.6000e+00  1.2960e+01 -4.6656e+01]\n",
      " [ 1.0000e+00 -3.4000e+00  1.1560e+01 -3.9304e+01]\n",
      " [ 1.0000e+00 -3.2000e+00  1.0240e+01 -3.2768e+01]\n",
      " [ 1.0000e+00 -3.0000e+00  9.0000e+00 -2.7000e+01]\n",
      " [ 1.0000e+00 -2.8000e+00  7.8400e+00 -2.1952e+01]\n",
      " [ 1.0000e+00 -2.6000e+00  6.7600e+00 -1.7576e+01]\n",
      " [ 1.0000e+00 -2.4000e+00  5.7600e+00 -1.3824e+01]\n",
      " [ 1.0000e+00 -2.2000e+00  4.8400e+00 -1.0648e+01]\n",
      " [ 1.0000e+00 -2.0000e+00  4.0000e+00 -8.0000e+00]\n",
      " [ 1.0000e+00 -1.8000e+00  3.2400e+00 -5.8320e+00]\n",
      " [ 1.0000e+00 -1.6000e+00  2.5600e+00 -4.0960e+00]\n",
      " [ 1.0000e+00 -1.4000e+00  1.9600e+00 -2.7440e+00]\n",
      " [ 1.0000e+00 -1.2000e+00  1.4400e+00 -1.7280e+00]\n",
      " [ 1.0000e+00 -1.0000e+00  1.0000e+00 -1.0000e+00]\n",
      " [ 1.0000e+00 -8.0000e-01  6.4000e-01 -5.1200e-01]\n",
      " [ 1.0000e+00 -6.0000e-01  3.6000e-01 -2.1600e-01]\n",
      " [ 1.0000e+00 -4.0000e-01  1.6000e-01 -6.4000e-02]\n",
      " [ 1.0000e+00 -2.0000e-01  4.0000e-02 -8.0000e-03]\n",
      " [ 1.0000e+00  0.0000e+00  0.0000e+00  0.0000e+00]\n",
      " [ 1.0000e+00  2.0000e-01  4.0000e-02  8.0000e-03]\n",
      " [ 1.0000e+00  4.0000e-01  1.6000e-01  6.4000e-02]\n",
      " [ 1.0000e+00  6.0000e-01  3.6000e-01  2.1600e-01]\n",
      " [ 1.0000e+00  8.0000e-01  6.4000e-01  5.1200e-01]\n",
      " [ 1.0000e+00  1.0000e+00  1.0000e+00  1.0000e+00]\n",
      " [ 1.0000e+00  1.2000e+00  1.4400e+00  1.7280e+00]\n",
      " [ 1.0000e+00  1.4000e+00  1.9600e+00  2.7440e+00]\n",
      " [ 1.0000e+00  1.6000e+00  2.5600e+00  4.0960e+00]\n",
      " [ 1.0000e+00  1.8000e+00  3.2400e+00  5.8320e+00]\n",
      " [ 1.0000e+00  2.0000e+00  4.0000e+00  8.0000e+00]\n",
      " [ 1.0000e+00  2.2000e+00  4.8400e+00  1.0648e+01]\n",
      " [ 1.0000e+00  2.4000e+00  5.7600e+00  1.3824e+01]\n",
      " [ 1.0000e+00  2.6000e+00  6.7600e+00  1.7576e+01]\n",
      " [ 1.0000e+00  2.8000e+00  7.8400e+00  2.1952e+01]\n",
      " [ 1.0000e+00  3.0000e+00  9.0000e+00  2.7000e+01]\n",
      " [ 1.0000e+00  3.2000e+00  1.0240e+01  3.2768e+01]\n",
      " [ 1.0000e+00  3.4000e+00  1.1560e+01  3.9304e+01]\n",
      " [ 1.0000e+00  3.6000e+00  1.2960e+01  4.6656e+01]\n",
      " [ 1.0000e+00  3.8000e+00  1.4440e+01  5.4872e+01]\n",
      " [ 1.0000e+00  4.0000e+00  1.6000e+01  6.4000e+01]]\n",
      "1 element\n",
      "[-2.32598752e+01  5.31872776e+00  2.99625617e+00  1.75547689e-02]\n",
      "2 element\n",
      "[-2.09561176 -0.31713275  0.72373659  5.9891375  -1.38824758 -3.30308694\n",
      " -2.70136593  5.46706405 -0.3613871  -1.96613302 -0.66742014 -0.92352111\n",
      "  4.20867411 -1.46433395  1.11790529  1.49395936 -3.79629208 -3.83009414\n",
      "  0.52677467 -2.43517963  3.72408505  3.08331559  1.04252801 -4.71949175\n",
      "  0.59683433  4.84572447 -0.05468739 -4.30968856  2.7696247  -0.22272708\n",
      " -0.84645194 -2.24828777  2.23978149 -0.51833503  2.58609532 -1.5508242\n",
      "  1.97995642 -3.63764775 -1.6882585   2.65100911]\n",
      "3 element\n",
      "0.00026938073628822033\n",
      "4 element\n",
      "0.37120417516763027\n"
     ]
    }
   ],
   "source": [
    "for i,el in enumerate([X_3, tetta_hat_3, E_hat_3, alpha_3, T_Y3]):\n",
    "    print(i, \"element\")\n",
    "    print(el)"
   ]
  },
  {
   "attachments": {},
   "cell_type": "markdown",
   "metadata": {},
   "source": [
    "0.04487837170909718 < 2.02 нашли"
   ]
  },
  {
   "attachments": {},
   "cell_type": "markdown",
   "metadata": {},
   "source": [
    "## N2 m = 2"
   ]
  },
  {
   "cell_type": "code",
   "execution_count": 1367,
   "metadata": {},
   "outputs": [
    {
     "name": "stdout",
     "output_type": "stream",
     "text": [
      "Для альфа = 0.95 t_0975(37) = 2.03 \n",
      "\n",
      "Доверительный интервал для tetta 0: [ -23.468588091098287 ; -23.084783143711295 ] \n",
      "\n",
      "Доверительный интервал для tetta 1: [ 5.294578655996002 ; 5.67838360338299 ] \n",
      "\n",
      "Доверительный интервал для tetta 2: [ 2.80962012989936 ; 3.193425077286348 ] \n",
      "\n",
      "Для альфа = 0.99 t_0995(37) = 2.72 \n",
      "\n",
      "Доверительный интервал для tetta 0: [ -23.533816025506418 ; -23.019555209303164 ] \n",
      "\n",
      "Доверительный интервал для tetta 1: [ 5.229350721587869 ; 5.743611537791123 ] \n",
      "\n",
      "Доверительный интервал для tetta 2: [ 2.7443921954912263 ; 3.2586530116944816 ] \n",
      "\n"
     ]
    }
   ],
   "source": [
    "print('Для альфа = 0.95 t_0975(37) = 2.03', '\\n')\n",
    "\n",
    "a = tetta_hat_2[0] - 2.03 * (sqrt(alpha_2 / 37)) * norm(E_hat_2)\n",
    "b = tetta_hat_2[0] + 2.03 * (sqrt(alpha_2 / 37)) * norm(E_hat_2)\n",
    "# интервал для теты 0 [a ; b]\n",
    "print('Доверительный интервал для tetta 0: [',a,';' ,b,']', '\\n')\n",
    "\n",
    "a = tetta_hat_2[1] - 2.03 * (sqrt(alpha_2 / 37)) * norm(E_hat_2)\n",
    "b = tetta_hat_2[1] + 2.03 * (sqrt(alpha_2 / 37)) * norm(E_hat_2)\n",
    "# интервал для теты 1 [a ; b]\n",
    "print('Доверительный интервал для tetta 1: [',a,';' ,b,']', '\\n')\n",
    "\n",
    "a = tetta_hat_2[2] - 2.03 * (sqrt(alpha_2 / 37)) * norm(E_hat_2)\n",
    "b = tetta_hat_2[2] + 2.03 * (sqrt(alpha_2 / 37)) * norm(E_hat_2)\n",
    "# интервал для теты 2 [a ; b]\n",
    "print('Доверительный интервал для tetta 2: [',a,';' ,b,']', '\\n')\n",
    "\n",
    "# для альфа = 0.99 t_0995(37) = 2.72\n",
    "print('Для альфа = 0.99 t_0995(37) = 2.72', '\\n')\n",
    "\n",
    "a = tetta_hat_2[0] - 2.72 * (sqrt(alpha_2 / 37)) * norm(E_hat_2)\n",
    "b = tetta_hat_2[0] + 2.72 * (sqrt(alpha_2 / 37)) * norm(E_hat_2)\n",
    "# интервал для теты 0 [a ; b]\n",
    "print('Доверительный интервал для tetta 0: [',a,';' ,b,']', '\\n')\n",
    "\n",
    "a = tetta_hat_2[1] - 2.72 * (sqrt(alpha_2 / 37)) * norm(E_hat_2)\n",
    "b = tetta_hat_2[1] + 2.72 * (sqrt(alpha_2 / 37)) * norm(E_hat_2)\n",
    "# интервал для теты 1 [a ; b]\n",
    "print('Доверительный интервал для tetta 1: [',a,';' ,b,']', '\\n')\n",
    "\n",
    "a = tetta_hat_2[2] - 2.72 * (sqrt(alpha_2 / 37)) * norm(E_hat_2)\n",
    "b = tetta_hat_2[2] + 2.72 * (sqrt(alpha_2 / 37)) * norm(E_hat_2)\n",
    "# интервал для теты 2 [a ; b]\n",
    "print('Доверительный интервал для tetta 2: [',a,';' ,b,']', '\\n')\n"
   ]
  },
  {
   "attachments": {},
   "cell_type": "markdown",
   "metadata": {},
   "source": [
    "## N3"
   ]
  },
  {
   "cell_type": "code",
   "execution_count": 1368,
   "metadata": {},
   "outputs": [],
   "source": [
    "alpha_t = np.array([])\n",
    "for k in range(n):\n",
    "    alpha_t = np.append(alpha_t, X_1[k] @ np.linalg.inv(X_1.T @ X_1) @ X_1[k].T)"
   ]
  },
  {
   "cell_type": "code",
   "execution_count": 1369,
   "metadata": {},
   "outputs": [
    {
     "data": {
      "image/png": "[encoded data removed]",
      "text/plain": [
       "<Figure size 432x288 with 1 Axes>"
      ]
     },
     "metadata": {
      "needs_background": "light"
     },
     "output_type": "display_data"
    }
   ],
   "source": [
    "phi_h = np.array([])\n",
    "int_l = np.array([])\n",
    "int_r = np.array([])\n",
    "\n",
    "Y_H =  tetta_hat_2[0] + tetta_hat_2[1] * X + tetta_hat_2[2] * (X ** 2)\n",
    "\n",
    "phi_h = tetta_hat_2[0] + tetta_hat_2[1] * X + tetta_hat_2[2] * (X ** 2)\n",
    "int_l = phi_h - 2.03 * (norm(E_hat_2) * (np.sqrt(alpha_t))) / (sqrt(37))\n",
    "int_r = phi_h + 2.03 * (norm(E_hat_2) * (np.sqrt(alpha_t))) / (sqrt(37))\n",
    "\n",
    "plt.plot(X, int_r, label='доверительный интервал')\n",
    "plt.plot(X, int_l, label='доверительный интервал')\n",
    "plt.plot(X, Y, 'r', label='полезный сигнал')\n",
    "plt.title(\"для альфа = 0.95 t_0975(37) = 2.03\")\n",
    "plt.legend()\n",
    "plt.show()"
   ]
  },
  {
   "cell_type": "code",
   "execution_count": 1370,
   "metadata": {},
   "outputs": [
    {
     "data": {
      "image/png": "[encoded data removed]",
      "text/plain": [
       "<Figure size 432x288 with 1 Axes>"
      ]
     },
     "metadata": {
      "needs_background": "light"
     },
     "output_type": "display_data"
    }
   ],
   "source": [
    "int_l_1 = phi_h - 2.72 * (norm(E_hat_2) * (np.sqrt(alpha_t))) / (37 ** (1 / 2))\n",
    "int_r_1 = phi_h + 2.72 * (norm(E_hat_2) * (np.sqrt(alpha_t))) / (37 ** (1 / 2))\n",
    "\n",
    "plt.plot(X, int_r, label='доверительный интервал')\n",
    "plt.plot(X, int_l, label='доверительный интервал')\n",
    "plt.plot(X, Y, 'r', label='полезный сигнал')\n",
    "plt.title(\"для альфа = 0.99 t_0995(37) = 2.72\")\n",
    "plt.legend()\n",
    "plt.show()"
   ]
  },
  {
   "attachments": {},
   "cell_type": "markdown",
   "metadata": {},
   "source": [
    "## N4"
   ]
  },
  {
   "cell_type": "code",
   "execution_count": 1371,
   "metadata": {},
   "outputs": [
    {
     "data": {
      "image/png": "[encoded data removed]",
      "text/plain": [
       "<Figure size 432x288 with 1 Axes>"
      ]
     },
     "metadata": {
      "needs_background": "light"
     },
     "output_type": "display_data"
    }
   ],
   "source": [
    "plt.plot(X, Y_H, 'r', label='полезный сигнал')\n",
    "plt.plot(X, Y_E, 'r', label='модель наблюдений')\n",
    "plt.plot(X, Y, 'b', label='модель полезного сигнала')\n",
    "plt.plot(X, int_r, label='доверительный интервал')\n",
    "plt.plot(X, int_l, label='доверительный интервал')\n",
    "plt.legend()\n",
    "plt.show()"
   ]
  },
  {
   "attachments": {},
   "cell_type": "markdown",
   "metadata": {},
   "source": [
    "## N5"
   ]
  },
  {
   "cell_type": "code",
   "execution_count": 1372,
   "metadata": {},
   "outputs": [
    {
     "data": {
      "text/plain": [
       "<matplotlib.axes._subplots.AxesSubplot at 0x1a111f71a00>"
      ]
     },
     "execution_count": 1372,
     "metadata": {},
     "output_type": "execute_result"
    },
    {
     "data": {
      "image/png": "[encoded data removed]",
      "text/plain": [
       "<Figure size 432x288 with 2 Axes>"
      ]
     },
     "metadata": {
      "needs_background": "light"
     },
     "output_type": "display_data"
    }
   ],
   "source": [
    "fig, axes = plt.subplots(1, 2)\n",
    "sns.histplot(E_hat_2, bins=7, common_norm=True, ax=axes[0])\n",
    "sns.kdeplot(E_hat_2, fill=True, ax=axes[1])"
   ]
  },
  {
   "cell_type": "code",
   "execution_count": 1373,
   "metadata": {},
   "outputs": [
    {
     "name": "stderr",
     "output_type": "stream",
     "text": [
      "c:\\ProgramData\\Anaconda3\\lib\\site-packages\\seaborn\\distributions.py:2557: FutureWarning: `distplot` is a deprecated function and will be removed in a future version. Please adapt your code to use either `displot` (a figure-level function with similar flexibility) or `histplot` (an axes-level function for histograms).\n",
      "  warnings.warn(msg, FutureWarning)\n"
     ]
    },
    {
     "data": {
      "image/png": "[encoded data removed]",
      "text/plain": [
       "<Figure size 432x288 with 1 Axes>"
      ]
     },
     "metadata": {
      "needs_background": "light"
     },
     "output_type": "display_data"
    }
   ],
   "source": [
    "sns.distplot(E_hat_2, hist=True, kde=True, \n",
    "             bins=7, color = 'darkblue', \n",
    "             hist_kws={'edgecolor':'black'},\n",
    "             kde_kws={'linewidth': 4})\n",
    "plt.show()"
   ]
  },
  {
   "attachments": {},
   "cell_type": "markdown",
   "metadata": {},
   "source": [
    "## N6"
   ]
  },
  {
   "cell_type": "code",
   "execution_count": 1374,
   "metadata": {},
   "outputs": [
    {
     "data": {
      "text/plain": [
       "7.500662468081405"
      ]
     },
     "execution_count": 1374,
     "metadata": {},
     "output_type": "execute_result"
    }
   ],
   "source": [
    "sigma_hat_2_sq = 1/n * norm(E_hat_2)**2\n",
    "sigma_hat_2_sq"
   ]
  },
  {
   "attachments": {},
   "cell_type": "markdown",
   "metadata": {},
   "source": [
    "## N7"
   ]
  },
  {
   "cell_type": "code",
   "execution_count": 1375,
   "metadata": {},
   "outputs": [],
   "source": [
    "l = 8\n",
    "step = (E_hat_2.max() -  E_hat_2.min()) / (l-1)"
   ]
  },
  {
   "cell_type": "code",
   "execution_count": 1376,
   "metadata": {},
   "outputs": [
    {
     "name": "stdout",
     "output_type": "stream",
     "text": [
      "5\n",
      "6\n",
      "11\n",
      "6\n",
      "5\n",
      "3\n",
      "4\n"
     ]
    }
   ],
   "source": [
    "prev = E_hat_2.min()\n",
    "edge = prev + step\n",
    "n_vec = []\n",
    "t = [prev]\n",
    "for i in range(l-1):\n",
    "    print (((prev <= E_hat_2) & (E_hat_2 <= edge)).sum())\n",
    "    n_vec.append(((prev <= E_hat_2) & (E_hat_2 <= edge)).sum())\n",
    "    t.append(edge)\n",
    "    prev = edge\n",
    "    edge += step\n",
    "    "
   ]
  },
  {
   "cell_type": "code",
   "execution_count": 1377,
   "metadata": {},
   "outputs": [],
   "source": [
    "t = np.array(t)\n",
    "n_vec = np.array(n_vec)\n",
    "p_hat = n_vec / n"
   ]
  },
  {
   "cell_type": "code",
   "execution_count": 1378,
   "metadata": {},
   "outputs": [],
   "source": [
    "p = []\n",
    "for i in range(l-1):\n",
    "    p.append(sp.stats.norm.cdf(t[i+1]/sigma_hat_2_sq) - sp.stats.norm.cdf(t[i]/sigma_hat_2_sq))\n",
    "p = np.array(p)"
   ]
  },
  {
   "cell_type": "code",
   "execution_count": 1379,
   "metadata": {},
   "outputs": [],
   "source": [
    "T_Z = (((p - p_hat)**2) / p).sum() * n"
   ]
  },
  {
   "cell_type": "code",
   "execution_count": 1380,
   "metadata": {},
   "outputs": [
    {
     "data": {
      "text/plain": [
       "27.349394037971116"
      ]
     },
     "execution_count": 1380,
     "metadata": {},
     "output_type": "execute_result"
    }
   ],
   "source": [
    "T_Z"
   ]
  },
  {
   "attachments": {},
   "cell_type": "markdown",
   "metadata": {},
   "source": [
    "7.403652102899734 < 16.8 гипотеза верна"
   ]
  }
 ],
 "metadata": {
  "kernelspec": {
   "display_name": "Python 3.8.8 ('base')",
   "language": "python",
   "name": "python3"
  },
  "language_info": {
   "codemirror_mode": {
    "name": "ipython",
    "version": 3
   },
   "file_extension": ".py",
   "mimetype": "text/x-python",
   "name": "python",
   "nbconvert_exporter": "python",
   "pygments_lexer": "ipython3",
   "version": "3.8.8"
  },
  "orig_nbformat": 4,
  "vscode": {
   "interpreter": {
    "hash": "ad2bdc8ecc057115af97d19610ffacc2b4e99fae6737bb82f5d7fb13d2f2c186"
   }
  }
 },
 "nbformat": 4,
 "nbformat_minor": 2
}
