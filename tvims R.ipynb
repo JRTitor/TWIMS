{
 "cells": [
  {
   "cell_type": "markdown",
   "metadata": {},
   "source": [
    "Вариант 23"
   ]
  },
  {
   "cell_type": "code",
   "execution_count": 1,
   "metadata": {},
   "outputs": [
    {
     "name": "stderr",
     "output_type": "stream",
     "text": [
      "\n",
      "Bad key \"text.kerning_factor\" on line 4 in\n",
      "c:\\ProgramData\\Anaconda3\\lib\\site-packages\\matplotlib\\mpl-data\\stylelib\\_classic_test_patch.mplstyle.\n",
      "You probably need to get an updated matplotlibrc file from\n",
      "https://github.com/matplotlib/matplotlib/blob/v3.1.3/matplotlibrc.template\n",
      "or from the matplotlib source distribution\n"
     ]
    }
   ],
   "source": [
    "import numpy as np\n",
    "from math import sqrt\n",
    "import seaborn as sns\n",
    "import matplotlib.pyplot as plt\n",
    "import scipy as sp\n",
    "N = 23"
   ]
  },
  {
   "cell_type": "code",
   "execution_count": 2,
   "metadata": {},
   "outputs": [],
   "source": [
    "def norm(E_hat):\n",
    "    return np.sqrt(E_hat.T @ E_hat)\n",
    "\n",
    "n = 40  # количество элеентов\n",
    "sigma = sqrt(2.8)\n",
    "sigma2 = 2.8\n",
    "tetta_0 = (-1)**N * N\n",
    "tetta_1 = 5\n",
    "tetta_2 = 3\n",
    "tetta_3 = 0.13\n",
    "mu = 0\n",
    "k = np.arange(1, 41, 1, dtype=float)\n",
    "X = -4 + k * 8/n"
   ]
  },
  {
   "attachments": {},
   "cell_type": "markdown",
   "metadata": {},
   "source": [
    "# N"
   ]
  },
  {
   "cell_type": "code",
   "execution_count": 3,
   "metadata": {},
   "outputs": [],
   "source": [
    "#E = np.random.uniform(-3*sigma, 3*sigma, n)\n",
    "#E.tofile('E_VEC_R.dat')\n",
    "\n",
    "E = np.fromfile('E_VEC_R.dat', dtype=float)\n",
    "Y_E = tetta_0 + tetta_1 * X + tetta_2 * (X ** 2)  + E #Рассматривается модель наблюдений\n",
    "Y = tetta_0 + tetta_1 * X + tetta_2 * (X ** 2)"
   ]
  },
  {
   "attachments": {},
   "cell_type": "markdown",
   "metadata": {},
   "source": [
    "## N1_0"
   ]
  },
  {
   "cell_type": "code",
   "execution_count": 4,
   "metadata": {},
   "outputs": [],
   "source": [
    "X_1 = np.column_stack((np.ones(40, dtype=float), X))\n",
    "tetta_hat_1 = np.linalg.inv(X_1.T @ X_1) @ X_1.T @ Y_E\n",
    "E_hat_1 = Y - X_1 @ tetta_hat_1\n",
    "alpha_1 = np.linalg.inv(X_1.T @ X_1)[1][1]\n",
    "\n",
    "T_Y = (tetta_hat_1[1]) / ((np.sqrt(alpha_1) * norm(E_hat_1))) * np.sqrt(38)"
   ]
  },
  {
   "cell_type": "code",
   "execution_count": 5,
   "metadata": {},
   "outputs": [
    {
     "name": "stdout",
     "output_type": "stream",
     "text": [
      "0 element\n",
      "[-4.58397855 -2.59198315 -1.35306424  4.09576205 -3.11197923 -4.87011372\n",
      " -4.12378416  4.17800069 -1.52750664 -3.01887717 -1.61551469 -1.77484922\n",
      "  3.44707189 -2.14240818  0.51800377  0.96771789 -4.25254351 -4.21918293\n",
      "  0.20286376 -2.6950548   3.52794612  2.95145602  0.97633355 -4.71779272\n",
      "  0.66949786  4.99326614  0.17248869 -3.99727918  3.17370891  0.28031611\n",
      " -0.23632299 -1.52210364  3.09183284  0.4702382   3.72268774 -0.25387267\n",
      "  3.45044962 -1.97958769  0.17223623  4.72964895]\n",
      "1 element\n",
      "[ 1.  2.  3.  4.  5.  6.  7.  8.  9. 10. 11. 12. 13. 14. 15. 16. 17. 18.\n",
      " 19. 20. 21. 22. 23. 24. 25. 26. 27. 28. 29. 30. 31. 32. 33. 34. 35. 36.\n",
      " 37. 38. 39. 40.]\n",
      "2 element\n",
      "[-3.8 -3.6 -3.4 -3.2 -3.  -2.8 -2.6 -2.4 -2.2 -2.  -1.8 -1.6 -1.4 -1.2\n",
      " -1.  -0.8 -0.6 -0.4 -0.2  0.   0.2  0.4  0.6  0.8  1.   1.2  1.4  1.6\n",
      "  1.8  2.   2.2  2.4  2.6  2.8  3.   3.2  3.4  3.6  3.8  4. ]\n",
      "3 element\n",
      "[  1.32  -2.12  -5.32  -8.28 -11.   -13.48 -15.72 -17.72 -19.48 -21.\n",
      " -22.28 -23.32 -24.12 -24.68 -25.   -25.08 -24.92 -24.52 -23.88 -23.\n",
      " -21.88 -20.52 -18.92 -17.08 -15.   -12.68 -10.12  -7.32  -4.28  -1.\n",
      "   2.52   6.28  10.28  14.52  19.    23.72  28.68  33.88  39.32  45.  ]\n",
      "4 element\n",
      "[[ 1.  -3.8]\n",
      " [ 1.  -3.6]\n",
      " [ 1.  -3.4]\n",
      " [ 1.  -3.2]\n",
      " [ 1.  -3. ]\n",
      " [ 1.  -2.8]\n",
      " [ 1.  -2.6]\n",
      " [ 1.  -2.4]\n",
      " [ 1.  -2.2]\n",
      " [ 1.  -2. ]\n",
      " [ 1.  -1.8]\n",
      " [ 1.  -1.6]\n",
      " [ 1.  -1.4]\n",
      " [ 1.  -1.2]\n",
      " [ 1.  -1. ]\n",
      " [ 1.  -0.8]\n",
      " [ 1.  -0.6]\n",
      " [ 1.  -0.4]\n",
      " [ 1.  -0.2]\n",
      " [ 1.   0. ]\n",
      " [ 1.   0.2]\n",
      " [ 1.   0.4]\n",
      " [ 1.   0.6]\n",
      " [ 1.   0.8]\n",
      " [ 1.   1. ]\n",
      " [ 1.   1.2]\n",
      " [ 1.   1.4]\n",
      " [ 1.   1.6]\n",
      " [ 1.   1.8]\n",
      " [ 1.   2. ]\n",
      " [ 1.   2.2]\n",
      " [ 1.   2.4]\n",
      " [ 1.   2.6]\n",
      " [ 1.   2.8]\n",
      " [ 1.   3. ]\n",
      " [ 1.   3.2]\n",
      " [ 1.   3.4]\n",
      " [ 1.   3.6]\n",
      " [ 1.   3.8]\n",
      " [ 1.   4. ]]\n",
      "5 element\n",
      "[-7.30858537  6.08678565]\n",
      "6 element\n",
      "[ 31.75837084  27.10101371  22.68365658  18.50629945  14.56894232\n",
      "  10.87158519   7.41422806   4.19687093   1.2195138   -1.51784333\n",
      "  -4.01520046  -6.27255759  -8.28991472 -10.06727185 -11.60462898\n",
      " -12.90198611 -13.95934324 -14.77670037 -15.3540575  -15.69141463\n",
      " -15.78877176 -15.64612889 -15.26348602 -14.64084315 -13.77820028\n",
      " -12.67555741 -11.33291454  -9.75027167  -7.9276288   -5.86498593\n",
      "  -3.56234306  -1.01970019   1.76294268   4.78558555   8.04822842\n",
      "  11.55087128  15.29351415  19.27615702  23.49879989  27.96144276]\n",
      "7 element\n",
      "0.004690431519699811\n",
      "8 element\n",
      "6.0432064067371\n"
     ]
    }
   ],
   "source": [
    "for i,el in enumerate([E, k, X, Y, X_1, tetta_hat_1, E_hat_1, alpha_1, T_Y]):\n",
    "    print(i, \"element\")\n",
    "    print(el)"
   ]
  },
  {
   "attachments": {},
   "cell_type": "markdown",
   "metadata": {},
   "source": [
    "5.951280891478134 > 2,02 продолжаем"
   ]
  },
  {
   "attachments": {},
   "cell_type": "markdown",
   "metadata": {},
   "source": [
    "## N1_1"
   ]
  },
  {
   "cell_type": "code",
   "execution_count": 6,
   "metadata": {},
   "outputs": [],
   "source": [
    "X_2 = np.column_stack((np.ones(40, dtype=float), X, X**2))\n",
    "tetta_hat_2 = np.linalg.inv(X_2.T @ X_2) @ X_2.T @ Y_E\n",
    "E_hat_2 = Y - X_2 @ tetta_hat_2\n",
    "alpha_2 = np.linalg.inv(X_2.T @ X_2)[2][2]\n",
    "\n",
    "T_Y2 = (tetta_hat_2[2] ) / ((np.sqrt(alpha_2) * norm(E_hat_2))) * np.sqrt(37)"
   ]
  },
  {
   "cell_type": "code",
   "execution_count": 7,
   "metadata": {},
   "outputs": [
    {
     "name": "stdout",
     "output_type": "stream",
     "text": [
      "0 element\n",
      "[[ 1.   -3.8  14.44]\n",
      " [ 1.   -3.6  12.96]\n",
      " [ 1.   -3.4  11.56]\n",
      " [ 1.   -3.2  10.24]\n",
      " [ 1.   -3.    9.  ]\n",
      " [ 1.   -2.8   7.84]\n",
      " [ 1.   -2.6   6.76]\n",
      " [ 1.   -2.4   5.76]\n",
      " [ 1.   -2.2   4.84]\n",
      " [ 1.   -2.    4.  ]\n",
      " [ 1.   -1.8   3.24]\n",
      " [ 1.   -1.6   2.56]\n",
      " [ 1.   -1.4   1.96]\n",
      " [ 1.   -1.2   1.44]\n",
      " [ 1.   -1.    1.  ]\n",
      " [ 1.   -0.8   0.64]\n",
      " [ 1.   -0.6   0.36]\n",
      " [ 1.   -0.4   0.16]\n",
      " [ 1.   -0.2   0.04]\n",
      " [ 1.    0.    0.  ]\n",
      " [ 1.    0.2   0.04]\n",
      " [ 1.    0.4   0.16]\n",
      " [ 1.    0.6   0.36]\n",
      " [ 1.    0.8   0.64]\n",
      " [ 1.    1.    1.  ]\n",
      " [ 1.    1.2   1.44]\n",
      " [ 1.    1.4   1.96]\n",
      " [ 1.    1.6   2.56]\n",
      " [ 1.    1.8   3.24]\n",
      " [ 1.    2.    4.  ]\n",
      " [ 1.    2.2   4.84]\n",
      " [ 1.    2.4   5.76]\n",
      " [ 1.    2.6   6.76]\n",
      " [ 1.    2.8   7.84]\n",
      " [ 1.    3.    9.  ]\n",
      " [ 1.    3.2  10.24]\n",
      " [ 1.    3.4  11.56]\n",
      " [ 1.    3.6  12.96]\n",
      " [ 1.    3.8  14.44]\n",
      " [ 1.    4.   16.  ]]\n",
      "1 element\n",
      "[-23.27668562   5.48648113   3.0015226 ]\n",
      "2 element\n",
      "[ 2.10332751  2.00828474  1.91312016  1.81783377  1.72242557  1.62689557\n",
      "  1.53124375  1.43547013  1.3395747   1.24355746  1.14741842  1.05115756\n",
      "  0.9547749   0.85827042  0.76164414  0.66489605  0.56802616  0.47103445\n",
      "  0.37392094  0.27668562  0.17932849  0.08184955 -0.0157512  -0.11347375\n",
      " -0.21131812 -0.30928429 -0.40737227 -0.50558206 -0.60391365 -0.70236706\n",
      " -0.80094227 -0.89963929 -0.99845812 -1.09739876 -1.1964612  -1.29564546\n",
      " -1.39495152 -1.49437939 -1.59392907 -1.69360056]\n",
      "3 element\n",
      "0.0011020750751174373\n",
      "4 element\n",
      "75.93424470988369\n"
     ]
    }
   ],
   "source": [
    "for i,el in enumerate([X_2, tetta_hat_2, E_hat_2, alpha_2, T_Y2]):\n",
    "    print(i, \"element\")\n",
    "    print(el)"
   ]
  },
  {
   "attachments": {},
   "cell_type": "markdown",
   "metadata": {},
   "source": [
    "75.93424470988369 > 2.02 нашли, продолжаем поиск"
   ]
  },
  {
   "attachments": {},
   "cell_type": "markdown",
   "metadata": {},
   "source": [
    "## N1_2"
   ]
  },
  {
   "cell_type": "code",
   "execution_count": 8,
   "metadata": {},
   "outputs": [],
   "source": [
    "X_3 = np.column_stack((np.ones(40, dtype=float), X, X**2, X**3))\n",
    "tetta_hat_3 = np.linalg.inv(X_3.T @ X_3) @ X_3.T @ Y_E\n",
    "E_hat_3 = Y - X_3 @ tetta_hat_3\n",
    "alpha_3 = np.linalg.inv(X_3.T @ X_3)[3][3]\n",
    "\n",
    "T_Y3 = (tetta_hat_3[3]) / ((np.sqrt(alpha_3) * norm(E_hat_3))) * np.sqrt(36)"
   ]
  },
  {
   "cell_type": "code",
   "execution_count": 9,
   "metadata": {},
   "outputs": [
    {
     "name": "stdout",
     "output_type": "stream",
     "text": [
      "0 element\n",
      "[[ 1.0000e+00 -3.8000e+00  1.4440e+01 -5.4872e+01]\n",
      " [ 1.0000e+00 -3.6000e+00  1.2960e+01 -4.6656e+01]\n",
      " [ 1.0000e+00 -3.4000e+00  1.1560e+01 -3.9304e+01]\n",
      " [ 1.0000e+00 -3.2000e+00  1.0240e+01 -3.2768e+01]\n",
      " [ 1.0000e+00 -3.0000e+00  9.0000e+00 -2.7000e+01]\n",
      " [ 1.0000e+00 -2.8000e+00  7.8400e+00 -2.1952e+01]\n",
      " [ 1.0000e+00 -2.6000e+00  6.7600e+00 -1.7576e+01]\n",
      " [ 1.0000e+00 -2.4000e+00  5.7600e+00 -1.3824e+01]\n",
      " [ 1.0000e+00 -2.2000e+00  4.8400e+00 -1.0648e+01]\n",
      " [ 1.0000e+00 -2.0000e+00  4.0000e+00 -8.0000e+00]\n",
      " [ 1.0000e+00 -1.8000e+00  3.2400e+00 -5.8320e+00]\n",
      " [ 1.0000e+00 -1.6000e+00  2.5600e+00 -4.0960e+00]\n",
      " [ 1.0000e+00 -1.4000e+00  1.9600e+00 -2.7440e+00]\n",
      " [ 1.0000e+00 -1.2000e+00  1.4400e+00 -1.7280e+00]\n",
      " [ 1.0000e+00 -1.0000e+00  1.0000e+00 -1.0000e+00]\n",
      " [ 1.0000e+00 -8.0000e-01  6.4000e-01 -5.1200e-01]\n",
      " [ 1.0000e+00 -6.0000e-01  3.6000e-01 -2.1600e-01]\n",
      " [ 1.0000e+00 -4.0000e-01  1.6000e-01 -6.4000e-02]\n",
      " [ 1.0000e+00 -2.0000e-01  4.0000e-02 -8.0000e-03]\n",
      " [ 1.0000e+00  0.0000e+00  0.0000e+00  0.0000e+00]\n",
      " [ 1.0000e+00  2.0000e-01  4.0000e-02  8.0000e-03]\n",
      " [ 1.0000e+00  4.0000e-01  1.6000e-01  6.4000e-02]\n",
      " [ 1.0000e+00  6.0000e-01  3.6000e-01  2.1600e-01]\n",
      " [ 1.0000e+00  8.0000e-01  6.4000e-01  5.1200e-01]\n",
      " [ 1.0000e+00  1.0000e+00  1.0000e+00  1.0000e+00]\n",
      " [ 1.0000e+00  1.2000e+00  1.4400e+00  1.7280e+00]\n",
      " [ 1.0000e+00  1.4000e+00  1.9600e+00  2.7440e+00]\n",
      " [ 1.0000e+00  1.6000e+00  2.5600e+00  4.0960e+00]\n",
      " [ 1.0000e+00  1.8000e+00  3.2400e+00  5.8320e+00]\n",
      " [ 1.0000e+00  2.0000e+00  4.0000e+00  8.0000e+00]\n",
      " [ 1.0000e+00  2.2000e+00  4.8400e+00  1.0648e+01]\n",
      " [ 1.0000e+00  2.4000e+00  5.7600e+00  1.3824e+01]\n",
      " [ 1.0000e+00  2.6000e+00  6.7600e+00  1.7576e+01]\n",
      " [ 1.0000e+00  2.8000e+00  7.8400e+00  2.1952e+01]\n",
      " [ 1.0000e+00  3.0000e+00  9.0000e+00  2.7000e+01]\n",
      " [ 1.0000e+00  3.2000e+00  1.0240e+01  3.2768e+01]\n",
      " [ 1.0000e+00  3.4000e+00  1.1560e+01  3.9304e+01]\n",
      " [ 1.0000e+00  3.6000e+00  1.2960e+01  4.6656e+01]\n",
      " [ 1.0000e+00  3.8000e+00  1.4440e+01  5.4872e+01]\n",
      " [ 1.0000e+00  4.0000e+00  1.6000e+01  6.4000e+01]]\n",
      "1 element\n",
      "[-2.32598752e+01  5.31872776e+00  2.99625617e+00  1.75547689e-02]\n",
      "2 element\n",
      "[ 2.48836679e+00  2.27485040e+00  2.07680083e+00  1.89337545e+00\n",
      "  1.72373165e+00  1.56702678e+00  1.42241823e+00  1.28906336e+00\n",
      "  1.16611954e+00  1.05274415e+00  9.48094547e-01  8.51328114e-01\n",
      "  7.61602219e-01  6.78074232e-01  5.99901525e-01  5.26241468e-01\n",
      "  4.56251433e-01  3.89088791e-01  3.23910914e-01  2.59875171e-01\n",
      "  1.96138934e-01  1.31859575e-01  6.61944636e-02 -1.69902801e-03\n",
      " -7.26635291e-02 -1.47541669e-01 -2.27176075e-01 -3.12409378e-01\n",
      " -4.04084206e-01 -5.03043188e-01 -6.10128953e-01 -7.26184130e-01\n",
      " -8.52051347e-01 -9.88573234e-01 -1.13659242e+00 -1.29695153e+00\n",
      " -1.47049320e+00 -1.65806006e+00 -1.86049473e+00 -2.07863984e+00]\n",
      "3 element\n",
      "0.00026938073628822033\n",
      "4 element\n",
      "0.8765549305560656\n"
     ]
    }
   ],
   "source": [
    "for i,el in enumerate([X_3, tetta_hat_3, E_hat_3, alpha_3, T_Y3]):\n",
    "    print(i, \"element\")\n",
    "    print(el)"
   ]
  },
  {
   "attachments": {},
   "cell_type": "markdown",
   "metadata": {},
   "source": [
    "0.04487837170909718 < 2.02 нашли"
   ]
  },
  {
   "attachments": {},
   "cell_type": "markdown",
   "metadata": {},
   "source": [
    "## N2 m = 2"
   ]
  },
  {
   "cell_type": "code",
   "execution_count": 10,
   "metadata": {},
   "outputs": [
    {
     "name": "stdout",
     "output_type": "stream",
     "text": [
      "Для альфа = 0.95 t_0975(37) = 2.03 \n",
      "\n",
      "Доверительный интервал для tetta 0: [ -23.35692729108671 ; -23.196443943722873 ] \n",
      "\n",
      "Доверительный интервал для tetta 1: [ 5.406239456007577 ; 5.566722803371415 ] \n",
      "\n",
      "Доверительный интервал для tetta 2: [ 2.921280929910935 ; 3.081764277274773 ] \n",
      "\n",
      "Для альфа = 0.99 t_0995(37) = 2.72 \n",
      "\n",
      "Доверительный интервал для tetta 0: [ -23.38420155455495 ; -23.169169680254633 ] \n",
      "\n",
      "Доверительный интервал для tetta 1: [ 5.378965192539338 ; 5.593997066839654 ] \n",
      "\n",
      "Доверительный интервал для tetta 2: [ 2.894006666442696 ; 3.1090385407430117 ] \n",
      "\n"
     ]
    }
   ],
   "source": [
    "print('Для альфа = 0.95 t_0975(37) = 2.03', '\\n')\n",
    "\n",
    "a = tetta_hat_2[0] - 2.03 * (sqrt(alpha_2 / 37)) * norm(E_hat_2)\n",
    "b = tetta_hat_2[0] + 2.03 * (sqrt(alpha_2 / 37)) * norm(E_hat_2)\n",
    "# интервал для теты 0 [a ; b]\n",
    "print('Доверительный интервал для tetta 0: [',a,';' ,b,']', '\\n')\n",
    "\n",
    "a = tetta_hat_2[1] - 2.03 * (sqrt(alpha_2 / 37)) * norm(E_hat_2)\n",
    "b = tetta_hat_2[1] + 2.03 * (sqrt(alpha_2 / 37)) * norm(E_hat_2)\n",
    "# интервал для теты 1 [a ; b]\n",
    "print('Доверительный интервал для tetta 1: [',a,';' ,b,']', '\\n')\n",
    "\n",
    "a = tetta_hat_2[2] - 2.03 * (sqrt(alpha_2 / 37)) * norm(E_hat_2)\n",
    "b = tetta_hat_2[2] + 2.03 * (sqrt(alpha_2 / 37)) * norm(E_hat_2)\n",
    "# интервал для теты 2 [a ; b]\n",
    "print('Доверительный интервал для tetta 2: [',a,';' ,b,']', '\\n')\n",
    "\n",
    "# для альфа = 0.99 t_0995(37) = 2.72\n",
    "print('Для альфа = 0.99 t_0995(37) = 2.72', '\\n')\n",
    "\n",
    "a = tetta_hat_2[0] - 2.72 * (sqrt(alpha_2 / 37)) * norm(E_hat_2)\n",
    "b = tetta_hat_2[0] + 2.72 * (sqrt(alpha_2 / 37)) * norm(E_hat_2)\n",
    "# интервал для теты 0 [a ; b]\n",
    "print('Доверительный интервал для tetta 0: [',a,';' ,b,']', '\\n')\n",
    "\n",
    "a = tetta_hat_2[1] - 2.72 * (sqrt(alpha_2 / 37)) * norm(E_hat_2)\n",
    "b = tetta_hat_2[1] + 2.72 * (sqrt(alpha_2 / 37)) * norm(E_hat_2)\n",
    "# интервал для теты 1 [a ; b]\n",
    "print('Доверительный интервал для tetta 1: [',a,';' ,b,']', '\\n')\n",
    "\n",
    "a = tetta_hat_2[2] - 2.72 * (sqrt(alpha_2 / 37)) * norm(E_hat_2)\n",
    "b = tetta_hat_2[2] + 2.72 * (sqrt(alpha_2 / 37)) * norm(E_hat_2)\n",
    "# интервал для теты 2 [a ; b]\n",
    "print('Доверительный интервал для tetta 2: [',a,';' ,b,']', '\\n')\n"
   ]
  },
  {
   "attachments": {},
   "cell_type": "markdown",
   "metadata": {},
   "source": [
    "## N3"
   ]
  },
  {
   "cell_type": "code",
   "execution_count": 11,
   "metadata": {},
   "outputs": [],
   "source": [
    "alpha_t = np.array([])\n",
    "for k in range(n):\n",
    "    alpha_t = np.append(alpha_t, X_1[k] @ np.linalg.inv(X_1.T @ X_1) @ X_1[k].T)"
   ]
  },
  {
   "cell_type": "code",
   "execution_count": 12,
   "metadata": {},
   "outputs": [
    {
     "data": {
      "image/png": "[encoded data removed]",
      "text/plain": [
       "<Figure size 432x288 with 1 Axes>"
      ]
     },
     "metadata": {
      "needs_background": "light"
     },
     "output_type": "display_data"
    }
   ],
   "source": [
    "phi_h = np.array([])\n",
    "int_l = np.array([])\n",
    "int_r = np.array([])\n",
    "\n",
    "Y_H =  tetta_hat_2[0] + tetta_hat_2[1] * X + tetta_hat_2[2] * (X ** 2)\n",
    "\n",
    "phi_h = tetta_hat_2[0] + tetta_hat_2[1] * X + tetta_hat_2[2] * (X ** 2)\n",
    "int_l = phi_h - 2.03 * (norm(E_hat_2) * (np.sqrt(alpha_t))) / (sqrt(37))\n",
    "int_r = phi_h + 2.03 * (norm(E_hat_2) * (np.sqrt(alpha_t))) / (sqrt(37))\n",
    "\n",
    "plt.plot(X, int_r, label='доверительный интервал')\n",
    "plt.plot(X, int_l, label='доверительный интервал')\n",
    "plt.plot(X, Y, 'r', label='полезный сигнал')\n",
    "plt.title(\"для альфа = 0.95 t_0975(37) = 2.03\")\n",
    "plt.legend()\n",
    "plt.show()"
   ]
  },
  {
   "cell_type": "code",
   "execution_count": 13,
   "metadata": {},
   "outputs": [
    {
     "data": {
      "image/png": "[encoded data removed]",
      "text/plain": [
       "<Figure size 432x288 with 1 Axes>"
      ]
     },
     "metadata": {
      "needs_background": "light"
     },
     "output_type": "display_data"
    }
   ],
   "source": [
    "int_l_1 = phi_h - 2.72 * (norm(E_hat_2) * (np.sqrt(alpha_t))) / (37 ** (1 / 2))\n",
    "int_r_1 = phi_h + 2.72 * (norm(E_hat_2) * (np.sqrt(alpha_t))) / (37 ** (1 / 2))\n",
    "\n",
    "plt.plot(X, int_r, label='доверительный интервал')\n",
    "plt.plot(X, int_l, label='доверительный интервал')\n",
    "plt.plot(X, Y, 'r', label='полезный сигнал')\n",
    "plt.title(\"для альфа = 0.99 t_0995(37) = 2.72\")\n",
    "plt.legend()\n",
    "plt.show()"
   ]
  },
  {
   "attachments": {},
   "cell_type": "markdown",
   "metadata": {},
   "source": [
    "## N4"
   ]
  },
  {
   "cell_type": "code",
   "execution_count": 14,
   "metadata": {},
   "outputs": [
    {
     "data": {
      "image/png": "[encoded data removed]",
      "text/plain": [
       "<Figure size 432x288 with 1 Axes>"
      ]
     },
     "metadata": {
      "needs_background": "light"
     },
     "output_type": "display_data"
    }
   ],
   "source": [
    "plt.plot(X, Y_H, 'r', label='полезный сигнал')\n",
    "plt.plot(X, Y_E, 'r', label='модель наблюдений')\n",
    "plt.plot(X, Y, 'b', label='модель полезного сигнала')\n",
    "plt.plot(X, int_r, label='доверительный интервал')\n",
    "plt.plot(X, int_l, label='доверительный интервал')\n",
    "plt.legend()\n",
    "plt.show()"
   ]
  },
  {
   "attachments": {},
   "cell_type": "markdown",
   "metadata": {},
   "source": [
    "## N5"
   ]
  },
  {
   "cell_type": "code",
   "execution_count": 15,
   "metadata": {},
   "outputs": [
    {
     "data": {
      "text/plain": [
       "<matplotlib.axes._subplots.AxesSubplot at 0x2cddb63e430>"
      ]
     },
     "execution_count": 15,
     "metadata": {},
     "output_type": "execute_result"
    },
    {
     "data": {
      "image/png": "[encoded data removed]",
      "text/plain": [
       "<Figure size 432x288 with 2 Axes>"
      ]
     },
     "metadata": {
      "needs_background": "light"
     },
     "output_type": "display_data"
    }
   ],
   "source": [
    "fig, axes = plt.subplots(1, 2)\n",
    "sns.histplot(E_hat_2, bins=7, common_norm=True, ax=axes[0])\n",
    "sns.kdeplot(E_hat_2, fill=True, ax=axes[1])"
   ]
  },
  {
   "cell_type": "code",
   "execution_count": 16,
   "metadata": {},
   "outputs": [
    {
     "name": "stderr",
     "output_type": "stream",
     "text": [
      "c:\\ProgramData\\Anaconda3\\lib\\site-packages\\seaborn\\distributions.py:2557: FutureWarning: `distplot` is a deprecated function and will be removed in a future version. Please adapt your code to use either `displot` (a figure-level function with similar flexibility) or `histplot` (an axes-level function for histograms).\n",
      "  warnings.warn(msg, FutureWarning)\n"
     ]
    },
    {
     "data": {
      "image/png": "[encoded data removed]",
      "text/plain": [
       "<Figure size 432x288 with 1 Axes>"
      ]
     },
     "metadata": {
      "needs_background": "light"
     },
     "output_type": "display_data"
    }
   ],
   "source": [
    "sns.distplot(E_hat_2, hist=True, kde=True, \n",
    "             bins=7, color = 'darkblue', \n",
    "             hist_kws={'edgecolor':'black'},\n",
    "             kde_kws={'linewidth': 4})\n",
    "plt.show()"
   ]
  },
  {
   "attachments": {},
   "cell_type": "markdown",
   "metadata": {},
   "source": [
    "## N6"
   ]
  },
  {
   "cell_type": "code",
   "execution_count": 17,
   "metadata": {},
   "outputs": [
    {
     "data": {
      "text/plain": [
       "1.3114098272905477"
      ]
     },
     "execution_count": 17,
     "metadata": {},
     "output_type": "execute_result"
    }
   ],
   "source": [
    "sigma_hat_2_sq = 1/n * norm(E_hat_2)**2\n",
    "sigma_hat_2_sq"
   ]
  },
  {
   "attachments": {},
   "cell_type": "markdown",
   "metadata": {},
   "source": [
    "## N7"
   ]
  },
  {
   "cell_type": "code",
   "execution_count": 18,
   "metadata": {},
   "outputs": [],
   "source": [
    "l = 8\n",
    "step = (E_hat_2.max() -  E_hat_2.min()) / (l-1)"
   ]
  },
  {
   "cell_type": "code",
   "execution_count": 19,
   "metadata": {},
   "outputs": [
    {
     "name": "stdout",
     "output_type": "stream",
     "text": [
      "6\n",
      "5\n",
      "6\n",
      "6\n",
      "5\n",
      "6\n",
      "6\n"
     ]
    }
   ],
   "source": [
    "prev = E_hat_2.min()\n",
    "edge = prev + step\n",
    "n_vec = []\n",
    "t = [prev]\n",
    "for i in range(l-1):\n",
    "    print (((prev <= E_hat_2) & (E_hat_2 <= edge)).sum())\n",
    "    n_vec.append(((prev <= E_hat_2) & (E_hat_2 <= edge)).sum())\n",
    "    t.append(edge)\n",
    "    prev = edge\n",
    "    edge += step\n",
    "    "
   ]
  },
  {
   "cell_type": "code",
   "execution_count": 20,
   "metadata": {},
   "outputs": [],
   "source": [
    "t = np.array(t)\n",
    "n_vec = np.array(n_vec)\n",
    "p_hat = n_vec / n"
   ]
  },
  {
   "cell_type": "code",
   "execution_count": 21,
   "metadata": {},
   "outputs": [],
   "source": [
    "p = []\n",
    "for i in range(l-1):\n",
    "    p.append(sp.stats.norm.cdf(t[i+1]/sigma_hat_2_sq) - sp.stats.norm.cdf(t[i]/sigma_hat_2_sq))\n",
    "p = np.array(p)"
   ]
  },
  {
   "cell_type": "code",
   "execution_count": 22,
   "metadata": {},
   "outputs": [],
   "source": [
    "T_Z = (((p - p_hat)**2) / p).sum() * n"
   ]
  },
  {
   "cell_type": "code",
   "execution_count": 23,
   "metadata": {},
   "outputs": [
    {
     "data": {
      "text/plain": [
       "7.403652102899734"
      ]
     },
     "execution_count": 23,
     "metadata": {},
     "output_type": "execute_result"
    }
   ],
   "source": [
    "T_Z"
   ]
  },
  {
   "attachments": {},
   "cell_type": "markdown",
   "metadata": {},
   "source": [
    "7.403652102899734 < 16.8 гипотеза верна"
   ]
  }
 ],
 "metadata": {
  "kernelspec": {
   "display_name": "Python 3.8.8 ('base')",
   "language": "python",
   "name": "python3"
  },
  "language_info": {
   "codemirror_mode": {
    "name": "ipython",
    "version": 3
   },
   "file_extension": ".py",
   "mimetype": "text/x-python",
   "name": "python",
   "nbconvert_exporter": "python",
   "pygments_lexer": "ipython3",
   "version": "3.8.8 (default, Apr 13 2021, 15:08:03) [MSC v.1916 64 bit (AMD64)]"
  },
  "orig_nbformat": 4,
  "vscode": {
   "interpreter": {
    "hash": "ad2bdc8ecc057115af97d19610ffacc2b4e99fae6737bb82f5d7fb13d2f2c186"
   }
  }
 },
 "nbformat": 4,
 "nbformat_minor": 2
}
