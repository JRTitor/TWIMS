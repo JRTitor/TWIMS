{
 "cells": [
  {
   "cell_type": "markdown",
   "metadata": {},
   "source": [
    "Вариант 23"
   ]
  },
  {
   "cell_type": "code",
   "execution_count": 1799,
   "metadata": {},
   "outputs": [],
   "source": [
    "import numpy as np\n",
    "from math import sqrt\n",
    "import seaborn as sns\n",
    "import matplotlib.pyplot as plt\n",
    "import scipy as sp\n",
    "N = 23"
   ]
  },
  {
   "cell_type": "code",
   "execution_count": 1800,
   "metadata": {},
   "outputs": [],
   "source": [
    "def norm(E_hat):\n",
    "    return np.sqrt(E_hat.T @ E_hat)\n",
    "\n",
    "n = 40  # количество элеентов\n",
    "sigma = sqrt(2.8)\n",
    "sigma2 = 2.8\n",
    "tetta_0 = (-1)**N * N\n",
    "tetta_1 = 5\n",
    "tetta_2 = 3\n",
    "tetta_3 = 0.13\n",
    "mu = 0\n",
    "k = np.arange(1, 41, 1, dtype=float)\n",
    "X = -4 + k * 8/n"
   ]
  },
  {
   "attachments": {},
   "cell_type": "markdown",
   "metadata": {},
   "source": [
    "# N"
   ]
  },
  {
   "cell_type": "code",
   "execution_count": 1801,
   "metadata": {},
   "outputs": [],
   "source": [
    "\n",
    "#E = np.random.normal(mu, sigma, n)\n",
    "#\n",
    "E = np.fromfile('E_VEC.dat', dtype=float)\n",
    "'''\n",
    "E.tofile('E_VEC.dat')\n",
    "'''\n",
    "Y_E = tetta_0 + tetta_1 * X + tetta_2 * (X ** 2) + tetta_3 * (X ** 3) + E #Рассматривается модель наблюдений\n",
    "Y = tetta_0 + tetta_1 * X + tetta_2 * (X ** 2) + tetta_3 * (X ** 3)"
   ]
  },
  {
   "attachments": {},
   "cell_type": "markdown",
   "metadata": {},
   "source": [
    "## N1_0"
   ]
  },
  {
   "cell_type": "code",
   "execution_count": 1802,
   "metadata": {},
   "outputs": [],
   "source": [
    "X_1 = np.column_stack((np.ones(40, dtype=float), X))\n",
    "tetta_hat_1 = np.linalg.inv(X_1.T @ X_1) @ X_1.T @ Y_E\n",
    "E_hat_1 = Y - X_1 @ tetta_hat_1\n",
    "alpha_1 = np.linalg.inv(X_1.T @ X_1)[1][1]\n",
    "\n",
    "T_Y = (tetta_hat_1[1]) / ((np.sqrt(alpha_1) * norm(E_hat_1))) * np.sqrt(38)"
   ]
  },
  {
   "cell_type": "code",
   "execution_count": 1803,
   "metadata": {},
   "outputs": [
    {
     "name": "stdout",
     "output_type": "stream",
     "text": [
      "0 element\n",
      "[-2.15185938 -0.50236062 -3.11327092 -0.79580843 -0.98766678 -2.97198884\n",
      " -2.67789324  1.76667805 -2.33536033 -1.58882679  1.55753011  0.38813592\n",
      " -1.04484424  0.95646554 -2.14925436  1.44352055  1.4514786  -0.70061168\n",
      "  1.24822903 -2.92449861 -2.24041096  0.16900937  0.08454273  2.84328879\n",
      "  1.33464163  1.78004651  0.14586242  1.10022166 -2.68065674  1.60616277\n",
      "  2.20182976  4.73013173 -2.96509404 -1.70945382  4.18499247 -0.2595998\n",
      " -0.6584024   1.85345621  0.74526955  4.14156103]\n",
      "1 element\n",
      "[ 1.  2.  3.  4.  5.  6.  7.  8.  9. 10. 11. 12. 13. 14. 15. 16. 17. 18.\n",
      " 19. 20. 21. 22. 23. 24. 25. 26. 27. 28. 29. 30. 31. 32. 33. 34. 35. 36.\n",
      " 37. 38. 39. 40.]\n",
      "2 element\n",
      "[-3.8 -3.6 -3.4 -3.2 -3.  -2.8 -2.6 -2.4 -2.2 -2.  -1.8 -1.6 -1.4 -1.2\n",
      " -1.  -0.8 -0.6 -0.4 -0.2  0.   0.2  0.4  0.6  0.8  1.   1.2  1.4  1.6\n",
      "  1.8  2.   2.2  2.4  2.6  2.8  3.   3.2  3.4  3.6  3.8  4. ]\n",
      "3 element\n",
      "[-5.813360e+00 -8.185280e+00 -1.042952e+01 -1.253984e+01 -1.451000e+01\n",
      " -1.633376e+01 -1.800488e+01 -1.951712e+01 -2.086424e+01 -2.204000e+01\n",
      " -2.303816e+01 -2.385248e+01 -2.447672e+01 -2.490464e+01 -2.513000e+01\n",
      " -2.514656e+01 -2.494808e+01 -2.452832e+01 -2.388104e+01 -2.300000e+01\n",
      " -2.187896e+01 -2.051168e+01 -1.889192e+01 -1.701344e+01 -1.487000e+01\n",
      " -1.245536e+01 -9.763280e+00 -6.787520e+00 -3.521840e+00  4.000000e-02\n",
      "  3.904240e+00  8.077120e+00  1.256488e+01  1.737376e+01  2.251000e+01\n",
      "  2.797984e+01  3.378952e+01  3.994528e+01  4.645336e+01  5.332000e+01]\n",
      "4 element\n",
      "[[ 1.  -3.8]\n",
      " [ 1.  -3.6]\n",
      " [ 1.  -3.4]\n",
      " [ 1.  -3.2]\n",
      " [ 1.  -3. ]\n",
      " [ 1.  -2.8]\n",
      " [ 1.  -2.6]\n",
      " [ 1.  -2.4]\n",
      " [ 1.  -2.2]\n",
      " [ 1.  -2. ]\n",
      " [ 1.  -1.8]\n",
      " [ 1.  -1.6]\n",
      " [ 1.  -1.4]\n",
      " [ 1.  -1.2]\n",
      " [ 1.  -1. ]\n",
      " [ 1.  -0.8]\n",
      " [ 1.  -0.6]\n",
      " [ 1.  -0.4]\n",
      " [ 1.  -0.2]\n",
      " [ 1.   0. ]\n",
      " [ 1.   0.2]\n",
      " [ 1.   0.4]\n",
      " [ 1.   0.6]\n",
      " [ 1.   0.8]\n",
      " [ 1.   1. ]\n",
      " [ 1.   1.2]\n",
      " [ 1.   1.4]\n",
      " [ 1.   1.6]\n",
      " [ 1.   1.8]\n",
      " [ 1.   2. ]\n",
      " [ 1.   2.2]\n",
      " [ 1.   2.4]\n",
      " [ 1.   2.6]\n",
      " [ 1.   2.8]\n",
      " [ 1.   3. ]\n",
      " [ 1.   3.2]\n",
      " [ 1.   3.4]\n",
      " [ 1.   3.6]\n",
      " [ 1.   3.8]\n",
      " [ 1.   4. ]]\n",
      "5 element\n",
      "[-6.96611373  7.25993541]\n",
      "6 element\n",
      "[ 28.74050827  24.91660119  21.22037411  17.65806703  14.23591995\n",
      "  10.96017287   7.83706579   4.87283871   2.07373162  -0.55401546\n",
      "  -3.00416254  -5.27046962  -7.3466967   -9.22660378 -10.90395086\n",
      " -12.37249795 -13.62600503 -14.65823211 -15.46293919 -16.03388627\n",
      " -16.36483335 -16.44954043 -16.28176751 -15.8552746  -15.16382168\n",
      " -14.20116876 -12.96107584 -11.43730292  -9.62361     -7.51375708\n",
      "  -5.10150417  -2.38061125   0.65516167   4.01205459   7.69630751\n",
      "  11.71416043  16.07185335  20.77562627  25.83171918  31.2463721 ]\n",
      "7 element\n",
      "0.004690431519699811\n",
      "8 element\n",
      "7.096647819737662\n"
     ]
    }
   ],
   "source": [
    "for i,el in enumerate([E, k, X, Y, X_1, tetta_hat_1, E_hat_1, alpha_1, T_Y]):\n",
    "    print(i, \"element\")\n",
    "    print(el)"
   ]
  },
  {
   "attachments": {},
   "cell_type": "markdown",
   "metadata": {},
   "source": [
    "7.096647819737662 > 2,02 продолжаем"
   ]
  },
  {
   "attachments": {},
   "cell_type": "markdown",
   "metadata": {},
   "source": [
    "## N1_1"
   ]
  },
  {
   "cell_type": "code",
   "execution_count": 1804,
   "metadata": {},
   "outputs": [],
   "source": [
    "X_2 = np.column_stack((np.ones(40, dtype=float), X, X**2))\n",
    "tetta_hat_2 = np.linalg.inv(X_2.T @ X_2) @ X_2.T @ Y_E\n",
    "E_hat_2 = Y - X_2 @ tetta_hat_2\n",
    "alpha_2 = np.linalg.inv(X_2.T @ X_2)[2][2]\n",
    "\n",
    "T_Y2 = (tetta_hat_2[2] ) / ((np.sqrt(alpha_2) * norm(E_hat_2))) * np.sqrt(37)"
   ]
  },
  {
   "cell_type": "code",
   "execution_count": 1805,
   "metadata": {},
   "outputs": [
    {
     "name": "stdout",
     "output_type": "stream",
     "text": [
      "0 element\n",
      "[[ 1.   -3.8  14.44]\n",
      " [ 1.   -3.6  12.96]\n",
      " [ 1.   -3.4  11.56]\n",
      " [ 1.   -3.2  10.24]\n",
      " [ 1.   -3.    9.  ]\n",
      " [ 1.   -2.8   7.84]\n",
      " [ 1.   -2.6   6.76]\n",
      " [ 1.   -2.4   5.76]\n",
      " [ 1.   -2.2   4.84]\n",
      " [ 1.   -2.    4.  ]\n",
      " [ 1.   -1.8   3.24]\n",
      " [ 1.   -1.6   2.56]\n",
      " [ 1.   -1.4   1.96]\n",
      " [ 1.   -1.2   1.44]\n",
      " [ 1.   -1.    1.  ]\n",
      " [ 1.   -0.8   0.64]\n",
      " [ 1.   -0.6   0.36]\n",
      " [ 1.   -0.4   0.16]\n",
      " [ 1.   -0.2   0.04]\n",
      " [ 1.    0.    0.  ]\n",
      " [ 1.    0.2   0.04]\n",
      " [ 1.    0.4   0.16]\n",
      " [ 1.    0.6   0.36]\n",
      " [ 1.    0.8   0.64]\n",
      " [ 1.    1.    1.  ]\n",
      " [ 1.    1.2   1.44]\n",
      " [ 1.    1.4   1.96]\n",
      " [ 1.    1.6   2.56]\n",
      " [ 1.    1.8   3.24]\n",
      " [ 1.    2.    4.  ]\n",
      " [ 1.    2.2   4.84]\n",
      " [ 1.    2.4   5.76]\n",
      " [ 1.    2.6   6.76]\n",
      " [ 1.    2.8   7.84]\n",
      " [ 1.    3.    9.  ]\n",
      " [ 1.    3.2  10.24]\n",
      " [ 1.    3.4  11.56]\n",
      " [ 1.    3.6  12.96]\n",
      " [ 1.    3.8  14.44]\n",
      " [ 1.    4.   16.  ]]\n",
      "1 element\n",
      "[-23.01779194   6.65648886   3.01723275]\n",
      "2 element\n",
      "[-1.06975126 -0.30746456  0.34112351  0.88225296  1.3221638   1.66709601\n",
      "  1.9232896   2.09698458  2.19442093  2.22183867  2.18547778  2.09157828\n",
      "  1.94638016  1.75612341  1.52704805  1.26539407  0.97740146  0.66931024\n",
      "  0.3473604   0.01779194 -0.31315514 -0.63924084 -0.95422516 -1.2518681\n",
      " -1.52592966 -1.77016984 -1.97834864 -2.14422606 -2.2615621  -2.32411676\n",
      " -2.32565004 -2.25992194 -2.12069245 -1.90172159 -1.59676935 -1.19959572\n",
      " -0.70396072 -0.10362434  0.60765343  1.43611257]\n",
      "3 element\n",
      "0.0011020750751174373\n",
      "4 element\n",
      "55.5572915505295\n"
     ]
    }
   ],
   "source": [
    "for i,el in enumerate([X_2, tetta_hat_2, E_hat_2, alpha_2, T_Y2]):\n",
    "    print(i, \"element\")\n",
    "    print(el)"
   ]
  },
  {
   "attachments": {},
   "cell_type": "markdown",
   "metadata": {},
   "source": [
    "55.5572915505295 > 2.02  продолжаем поиск"
   ]
  },
  {
   "attachments": {},
   "cell_type": "markdown",
   "metadata": {},
   "source": [
    "## N1_2"
   ]
  },
  {
   "cell_type": "code",
   "execution_count": 1806,
   "metadata": {},
   "outputs": [],
   "source": [
    "X_3 = np.column_stack((np.ones(40, dtype=float), X, X**2, X**3))\n",
    "tetta_hat_3 = np.linalg.inv(X_3.T @ X_3) @ X_3.T @ Y_E\n",
    "E_hat_3 = Y - X_3 @ tetta_hat_3\n",
    "alpha_3 = np.linalg.inv(X_3.T @ X_3)[3][3]\n",
    "\n",
    "T_Y3 = (tetta_hat_3[3]) / ((np.sqrt(alpha_3) * norm(E_hat_3))) * np.sqrt(36)"
   ]
  },
  {
   "cell_type": "code",
   "execution_count": 1807,
   "metadata": {},
   "outputs": [
    {
     "name": "stdout",
     "output_type": "stream",
     "text": [
      "0 element\n",
      "[[ 1.0000e+00 -3.8000e+00  1.4440e+01 -5.4872e+01]\n",
      " [ 1.0000e+00 -3.6000e+00  1.2960e+01 -4.6656e+01]\n",
      " [ 1.0000e+00 -3.4000e+00  1.1560e+01 -3.9304e+01]\n",
      " [ 1.0000e+00 -3.2000e+00  1.0240e+01 -3.2768e+01]\n",
      " [ 1.0000e+00 -3.0000e+00  9.0000e+00 -2.7000e+01]\n",
      " [ 1.0000e+00 -2.8000e+00  7.8400e+00 -2.1952e+01]\n",
      " [ 1.0000e+00 -2.6000e+00  6.7600e+00 -1.7576e+01]\n",
      " [ 1.0000e+00 -2.4000e+00  5.7600e+00 -1.3824e+01]\n",
      " [ 1.0000e+00 -2.2000e+00  4.8400e+00 -1.0648e+01]\n",
      " [ 1.0000e+00 -2.0000e+00  4.0000e+00 -8.0000e+00]\n",
      " [ 1.0000e+00 -1.8000e+00  3.2400e+00 -5.8320e+00]\n",
      " [ 1.0000e+00 -1.6000e+00  2.5600e+00 -4.0960e+00]\n",
      " [ 1.0000e+00 -1.4000e+00  1.9600e+00 -2.7440e+00]\n",
      " [ 1.0000e+00 -1.2000e+00  1.4400e+00 -1.7280e+00]\n",
      " [ 1.0000e+00 -1.0000e+00  1.0000e+00 -1.0000e+00]\n",
      " [ 1.0000e+00 -8.0000e-01  6.4000e-01 -5.1200e-01]\n",
      " [ 1.0000e+00 -6.0000e-01  3.6000e-01 -2.1600e-01]\n",
      " [ 1.0000e+00 -4.0000e-01  1.6000e-01 -6.4000e-02]\n",
      " [ 1.0000e+00 -2.0000e-01  4.0000e-02 -8.0000e-03]\n",
      " [ 1.0000e+00  0.0000e+00  0.0000e+00  0.0000e+00]\n",
      " [ 1.0000e+00  2.0000e-01  4.0000e-02  8.0000e-03]\n",
      " [ 1.0000e+00  4.0000e-01  1.6000e-01  6.4000e-02]\n",
      " [ 1.0000e+00  6.0000e-01  3.6000e-01  2.1600e-01]\n",
      " [ 1.0000e+00  8.0000e-01  6.4000e-01  5.1200e-01]\n",
      " [ 1.0000e+00  1.0000e+00  1.0000e+00  1.0000e+00]\n",
      " [ 1.0000e+00  1.2000e+00  1.4400e+00  1.7280e+00]\n",
      " [ 1.0000e+00  1.4000e+00  1.9600e+00  2.7440e+00]\n",
      " [ 1.0000e+00  1.6000e+00  2.5600e+00  4.0960e+00]\n",
      " [ 1.0000e+00  1.8000e+00  3.2400e+00  5.8320e+00]\n",
      " [ 1.0000e+00  2.0000e+00  4.0000e+00  8.0000e+00]\n",
      " [ 1.0000e+00  2.2000e+00  4.8400e+00  1.0648e+01]\n",
      " [ 1.0000e+00  2.4000e+00  5.7600e+00  1.3824e+01]\n",
      " [ 1.0000e+00  2.6000e+00  6.7600e+00  1.7576e+01]\n",
      " [ 1.0000e+00  2.8000e+00  7.8400e+00  2.1952e+01]\n",
      " [ 1.0000e+00  3.0000e+00  9.0000e+00  2.7000e+01]\n",
      " [ 1.0000e+00  3.2000e+00  1.0240e+01  3.2768e+01]\n",
      " [ 1.0000e+00  3.4000e+00  1.1560e+01  3.9304e+01]\n",
      " [ 1.0000e+00  3.6000e+00  1.2960e+01  4.6656e+01]\n",
      " [ 1.0000e+00  3.8000e+00  1.4440e+01  5.4872e+01]\n",
      " [ 1.0000e+00  4.0000e+00  1.6000e+01  6.4000e+01]]\n",
      "1 element\n",
      "[-22.87379723   5.2195492    2.97212162   0.15037041]\n",
      "2 element\n",
      "[ 2.22841322  1.97588008  1.74317724  1.52932692  1.33335135  1.15427276\n",
      "  0.99111334  0.84289534  0.70864096  0.58737243  0.47811197  0.3798818\n",
      "  0.29170414  0.2126012   0.14159522  0.0777084   0.01996297 -0.03261884\n",
      " -0.08101483 -0.12620277 -0.16916044 -0.21086561 -0.25229608 -0.29442961\n",
      " -0.338244   -0.38471701 -0.43482643 -0.48955004 -0.54986562 -0.61675095\n",
      " -0.6911838  -0.77414196 -0.86660321 -0.96954533 -1.08394609 -1.21078328\n",
      " -1.35103468 -1.50567806 -1.67569121 -1.86205191]\n",
      "3 element\n",
      "0.00026938073628822033\n",
      "4 element\n",
      "8.938055621907973\n"
     ]
    }
   ],
   "source": [
    "for i,el in enumerate([X_3, tetta_hat_3, E_hat_3, alpha_3, T_Y3]):\n",
    "    print(i, \"element\")\n",
    "    print(el)"
   ]
  },
  {
   "attachments": {},
   "cell_type": "markdown",
   "metadata": {},
   "source": [
    "8.938055621907973 > 2.02 продолжаем поиск"
   ]
  },
  {
   "attachments": {},
   "cell_type": "markdown",
   "metadata": {},
   "source": [
    "## N1_3"
   ]
  },
  {
   "cell_type": "code",
   "execution_count": 1808,
   "metadata": {},
   "outputs": [
    {
     "name": "stdout",
     "output_type": "stream",
     "text": [
      "0 element\n",
      "[[ 1.000000e+00 -3.800000e+00  1.444000e+01 -5.487200e+01  2.085136e+02]\n",
      " [ 1.000000e+00 -3.600000e+00  1.296000e+01 -4.665600e+01  1.679616e+02]\n",
      " [ 1.000000e+00 -3.400000e+00  1.156000e+01 -3.930400e+01  1.336336e+02]\n",
      " [ 1.000000e+00 -3.200000e+00  1.024000e+01 -3.276800e+01  1.048576e+02]\n",
      " [ 1.000000e+00 -3.000000e+00  9.000000e+00 -2.700000e+01  8.100000e+01]\n",
      " [ 1.000000e+00 -2.800000e+00  7.840000e+00 -2.195200e+01  6.146560e+01]\n",
      " [ 1.000000e+00 -2.600000e+00  6.760000e+00 -1.757600e+01  4.569760e+01]\n",
      " [ 1.000000e+00 -2.400000e+00  5.760000e+00 -1.382400e+01  3.317760e+01]\n",
      " [ 1.000000e+00 -2.200000e+00  4.840000e+00 -1.064800e+01  2.342560e+01]\n",
      " [ 1.000000e+00 -2.000000e+00  4.000000e+00 -8.000000e+00  1.600000e+01]\n",
      " [ 1.000000e+00 -1.800000e+00  3.240000e+00 -5.832000e+00  1.049760e+01]\n",
      " [ 1.000000e+00 -1.600000e+00  2.560000e+00 -4.096000e+00  6.553600e+00]\n",
      " [ 1.000000e+00 -1.400000e+00  1.960000e+00 -2.744000e+00  3.841600e+00]\n",
      " [ 1.000000e+00 -1.200000e+00  1.440000e+00 -1.728000e+00  2.073600e+00]\n",
      " [ 1.000000e+00 -1.000000e+00  1.000000e+00 -1.000000e+00  1.000000e+00]\n",
      " [ 1.000000e+00 -8.000000e-01  6.400000e-01 -5.120000e-01  4.096000e-01]\n",
      " [ 1.000000e+00 -6.000000e-01  3.600000e-01 -2.160000e-01  1.296000e-01]\n",
      " [ 1.000000e+00 -4.000000e-01  1.600000e-01 -6.400000e-02  2.560000e-02]\n",
      " [ 1.000000e+00 -2.000000e-01  4.000000e-02 -8.000000e-03  1.600000e-03]\n",
      " [ 1.000000e+00  0.000000e+00  0.000000e+00  0.000000e+00  0.000000e+00]\n",
      " [ 1.000000e+00  2.000000e-01  4.000000e-02  8.000000e-03  1.600000e-03]\n",
      " [ 1.000000e+00  4.000000e-01  1.600000e-01  6.400000e-02  2.560000e-02]\n",
      " [ 1.000000e+00  6.000000e-01  3.600000e-01  2.160000e-01  1.296000e-01]\n",
      " [ 1.000000e+00  8.000000e-01  6.400000e-01  5.120000e-01  4.096000e-01]\n",
      " [ 1.000000e+00  1.000000e+00  1.000000e+00  1.000000e+00  1.000000e+00]\n",
      " [ 1.000000e+00  1.200000e+00  1.440000e+00  1.728000e+00  2.073600e+00]\n",
      " [ 1.000000e+00  1.400000e+00  1.960000e+00  2.744000e+00  3.841600e+00]\n",
      " [ 1.000000e+00  1.600000e+00  2.560000e+00  4.096000e+00  6.553600e+00]\n",
      " [ 1.000000e+00  1.800000e+00  3.240000e+00  5.832000e+00  1.049760e+01]\n",
      " [ 1.000000e+00  2.000000e+00  4.000000e+00  8.000000e+00  1.600000e+01]\n",
      " [ 1.000000e+00  2.200000e+00  4.840000e+00  1.064800e+01  2.342560e+01]\n",
      " [ 1.000000e+00  2.400000e+00  5.760000e+00  1.382400e+01  3.317760e+01]\n",
      " [ 1.000000e+00  2.600000e+00  6.760000e+00  1.757600e+01  4.569760e+01]\n",
      " [ 1.000000e+00  2.800000e+00  7.840000e+00  2.195200e+01  6.146560e+01]\n",
      " [ 1.000000e+00  3.000000e+00  9.000000e+00  2.700000e+01  8.100000e+01]\n",
      " [ 1.000000e+00  3.200000e+00  1.024000e+01  3.276800e+01  1.048576e+02]\n",
      " [ 1.000000e+00  3.400000e+00  1.156000e+01  3.930400e+01  1.336336e+02]\n",
      " [ 1.000000e+00  3.600000e+00  1.296000e+01  4.665600e+01  1.679616e+02]\n",
      " [ 1.000000e+00  3.800000e+00  1.444000e+01  5.487200e+01  2.085136e+02]\n",
      " [ 1.000000e+00  4.000000e+00  1.600000e+01  6.400000e+01  2.560000e+02]]\n",
      "1 element\n",
      "[-2.26609728e+01  5.24637607e+00  2.83838009e+00  1.46441790e-01\n",
      "  9.82155614e-03]\n",
      "2 element\n",
      "[ 1.78525922  1.75998454  1.70071579  1.61326385  1.50306246  1.3751682\n",
      "  1.2342605   1.08464166  0.93023682  0.77459397  0.62088395  0.47190047\n",
      "  0.33006006  0.19740215  0.07558897 -0.03409436 -0.13073988 -0.21381679\n",
      " -0.28317142 -0.33902725 -0.38198491 -0.4130222  -0.43349402 -0.44513247\n",
      " -0.45004676 -0.45072326 -0.45002549 -0.45119412 -0.45784696 -0.47397897\n",
      " -0.50396227 -0.55254611 -0.62485689 -0.72639817 -0.86305065 -1.04107218\n",
      " -1.26709775 -1.54813951 -1.89158675 -2.30520591]\n",
      "3 element\n",
      "6.696254098073724e-05\n",
      "4 element\n",
      "1.1331687340722725\n"
     ]
    }
   ],
   "source": [
    "X_4 = np.column_stack((np.ones(40, dtype=float), X, X**2, X**3, X**4))\n",
    "tetta_hat_4 = np.linalg.inv(X_4.T @ X_4) @ X_4.T @ Y_E\n",
    "E_hat_4 = Y - X_4 @ tetta_hat_4\n",
    "alpha_4 = np.linalg.inv(X_4.T @ X_4)[4][4]\n",
    "\n",
    "\n",
    "T_Y4 = (tetta_hat_4[4]) / ((np.sqrt(alpha_4) * norm(E_hat_4))) * np.sqrt(35)\n",
    "\n",
    "for i,el in enumerate([X_4, tetta_hat_4, E_hat_4, alpha_4, T_Y4]):\n",
    "    print(i, \"element\")\n",
    "    print(el)"
   ]
  },
  {
   "attachments": {},
   "cell_type": "markdown",
   "metadata": {},
   "source": [
    "Меньше по модулю, чем  1.1331687340722725 < 2,02 квантиь, поэтому у нас полином 3 степени"
   ]
  },
  {
   "attachments": {},
   "cell_type": "markdown",
   "metadata": {},
   "source": [
    "## N2 m = 3"
   ]
  },
  {
   "cell_type": "code",
   "execution_count": 1809,
   "metadata": {},
   "outputs": [
    {
     "name": "stdout",
     "output_type": "stream",
     "text": [
      "Для альфа = 0.95 t_0975(37) = 2.03 \n",
      "\n",
      "Доверительный интервал для tetta 0: [ -22.90794917119481 ; -22.83964529161884 ] \n",
      "\n",
      "Доверительный интервал для tetta 1: [ 5.185397255504669 ; 5.253701135080644 ] \n",
      "\n",
      "Доверительный интервал для tetta 2: [ 2.9379696825137422 ; 3.0062735620897163 ] \n",
      "\n",
      "Доверительный интервал для tetta 3: [ 0.11621847273471328 ; 0.18452235231068778 ] \n",
      "\n",
      "Для альфа = 0.99 t_0995(37) = 2.72 \n",
      "\n",
      "Доверительный интервал для tetta 0: [ -22.919557465999596 ; -22.828036996814056 ] \n",
      "\n",
      "Доверительный интервал для tetta 1: [ 5.173788960699885 ; 5.265309429885428 ] \n",
      "\n",
      "Доверительный интервал для tetta 2: [ 2.9263613877089583 ; 3.0178818568945003 ] \n",
      "\n",
      "Доверительный интервал для tetta 3: [ 0.10461017792992944 ; 0.19613064711547162 ] \n",
      "\n"
     ]
    }
   ],
   "source": [
    "print('Для альфа = 0.95 t_0975(37) = 2.03', '\\n')\n",
    "\n",
    "a = tetta_hat_3[0] - 2.03 * (sqrt(alpha_3 / 36)) * norm(E_hat_3)\n",
    "b = tetta_hat_3[0] + 2.03 * (sqrt(alpha_3 / 36)) * norm(E_hat_3)\n",
    "# интервал для теты 0 [a ; b]\n",
    "print('Доверительный интервал для tetta 0: [',a,';' ,b,']', '\\n')\n",
    "\n",
    "a = tetta_hat_3[1] - 2.03 * (sqrt(alpha_3 / 36)) * norm(E_hat_3)\n",
    "b = tetta_hat_3[1] + 2.03 * (sqrt(alpha_3 / 36)) * norm(E_hat_3)\n",
    "# интервал для теты 1 [a ; b]\n",
    "print('Доверительный интервал для tetta 1: [',a,';' ,b,']', '\\n')\n",
    "\n",
    "a = tetta_hat_3[2] - 2.03 * (sqrt(alpha_3 / 36)) * norm(E_hat_3)\n",
    "b = tetta_hat_3[2] + 2.03 * (sqrt(alpha_3 / 36)) * norm(E_hat_3)\n",
    "# интервал для теты 2 [a ; b]\n",
    "print('Доверительный интервал для tetta 2: [',a,';' ,b,']', '\\n')\n",
    "\n",
    "a = tetta_hat_3[3] - 2.03 * (sqrt(alpha_3 / 36)) * norm(E_hat_3)\n",
    "b = tetta_hat_3[3] + 2.03 * (sqrt(alpha_3 / 36)) * norm(E_hat_3)\n",
    "# интервал для теты 3 [a ; b]\n",
    "print('Доверительный интервал для tetta 3: [',a,';' ,b,']', '\\n')\n",
    "\n",
    "# для альфа = 0.99 t_0995(37) = 2.72\n",
    "print('Для альфа = 0.99 t_0995(37) = 2.72', '\\n')\n",
    "\n",
    "a = tetta_hat_3[0] - 2.72 * (sqrt(alpha_3 / 36)) * norm(E_hat_3)\n",
    "b = tetta_hat_3[0] + 2.72 * (sqrt(alpha_3 / 36)) * norm(E_hat_3)\n",
    "# интервал для теты 0 [a ; b]\n",
    "print('Доверительный интервал для tetta 0: [',a,';' ,b,']', '\\n')\n",
    "\n",
    "a = tetta_hat_3[1] - 2.72 * (sqrt(alpha_3 / 36)) * norm(E_hat_3)\n",
    "b = tetta_hat_3[1] + 2.72 * (sqrt(alpha_3 / 36)) * norm(E_hat_3)\n",
    "# интервал для теты 1 [a ; b]\n",
    "print('Доверительный интервал для tetta 1: [',a,';' ,b,']', '\\n')\n",
    "\n",
    "a = tetta_hat_3[2] - 2.72 * (sqrt(alpha_3 / 36)) * norm(E_hat_3)\n",
    "b = tetta_hat_3[2] + 2.72 * (sqrt(alpha_3 / 36)) * norm(E_hat_3)\n",
    "# интервал для теты 2 [a ; b]\n",
    "print('Доверительный интервал для tetta 2: [',a,';' ,b,']', '\\n')\n",
    "\n",
    "a = tetta_hat_3[3] - 2.72 * (sqrt(alpha_3 / 36)) * norm(E_hat_3)\n",
    "b = tetta_hat_3[3] + 2.72 * (sqrt(alpha_3 / 36)) * norm(E_hat_3)\n",
    "# интервал для теты 3 [a ; b]\n",
    "print('Доверительный интервал для tetta 3: [',a,';' ,b,']', '\\n')"
   ]
  },
  {
   "attachments": {},
   "cell_type": "markdown",
   "metadata": {},
   "source": [
    "## N3"
   ]
  },
  {
   "cell_type": "code",
   "execution_count": 1810,
   "metadata": {},
   "outputs": [],
   "source": [
    "alpha_t = np.array([])\n",
    "for k in range(n):\n",
    "    alpha_t = np.append(alpha_t, X_1[k] @ np.linalg.inv(X_1.T @ X_1) @ X_1[k].T)"
   ]
  },
  {
   "cell_type": "code",
   "execution_count": 1842,
   "metadata": {},
   "outputs": [
    {
     "data": {
      "image/png": "[encoded data removed]",
      "text/plain": [
       "<Figure size 432x288 with 1 Axes>"
      ]
     },
     "metadata": {
      "needs_background": "light"
     },
     "output_type": "display_data"
    }
   ],
   "source": [
    "phi_h = np.array([])\n",
    "int_l = np.array([])\n",
    "int_r = np.array([])\n",
    "\n",
    "Y_H =  tetta_hat_3[0] + tetta_hat_3[1] * X + tetta_hat_3[2] * (X ** 2) + tetta_hat_3[3] * (X ** 3)\n",
    "\n",
    "phi_h = tetta_hat_3[0] + tetta_hat_3[1] * X + tetta_hat_3[2] * (X ** 2) + tetta_hat_3[3] * (X ** 3)\n",
    "\n",
    "int_l_1 = phi_h - 2.72 * (norm(E_hat_3) * (np.sqrt(alpha_t))) / (36 ** (1 / 2))\n",
    "int_r_1 = phi_h + 2.72 * (norm(E_hat_3) * (np.sqrt(alpha_t))) / (36 ** (1 / 2))\n",
    "\n",
    "plt.plot(X, int_r, label='доверительный интервал')\n",
    "plt.plot(X, int_l, label='доверительный интервал')\n",
    "plt.plot(X, Y, 'r', label='полезный сигнал')\n",
    "plt.title(\"для альфа = 0.99 t_0995(37) = 2.72\")\n",
    "plt.legend()\n",
    "plt.show()"
   ]
  },
  {
   "attachments": {},
   "cell_type": "markdown",
   "metadata": {},
   "source": [
    "## N4"
   ]
  },
  {
   "cell_type": "code",
   "execution_count": 1843,
   "metadata": {},
   "outputs": [
    {
     "data": {
      "image/png": "[encoded data removed]",
      "text/plain": [
       "<Figure size 432x288 with 1 Axes>"
      ]
     },
     "metadata": {
      "needs_background": "light"
     },
     "output_type": "display_data"
    }
   ],
   "source": [
    "plt.plot(X, Y_H, 'r', label='полезный сигнал')\n",
    "plt.plot(X, Y_E, 'r', label='модель наблюдений')\n",
    "plt.plot(X, Y, 'b', label='модель полезного сигнала')\n",
    "plt.plot(X, int_r, label='доверительный интервал')\n",
    "plt.plot(X, int_l, label='доверительный интервал')\n",
    "plt.legend()\n",
    "plt.show()"
   ]
  },
  {
   "attachments": {},
   "cell_type": "markdown",
   "metadata": {},
   "source": [
    "## N5"
   ]
  },
  {
   "cell_type": "code",
   "execution_count": 1825,
   "metadata": {},
   "outputs": [
    {
     "data": {
      "text/plain": [
       "<matplotlib.axes._subplots.AxesSubplot at 0x1e8520ebbe0>"
      ]
     },
     "execution_count": 1825,
     "metadata": {},
     "output_type": "execute_result"
    },
    {
     "data": {
      "image/png": "[encoded data removed]",
      "text/plain": [
       "<Figure size 432x288 with 2 Axes>"
      ]
     },
     "metadata": {
      "needs_background": "light"
     },
     "output_type": "display_data"
    }
   ],
   "source": [
    "fig, axes = plt.subplots(1, 2)\n",
    "sns.histplot(E_hat_3, bins=6, common_norm=True, ax=axes[0])\n",
    "sns.kdeplot(E_hat_3, fill=True, ax=axes[1])"
   ]
  },
  {
   "cell_type": "code",
   "execution_count": 1845,
   "metadata": {},
   "outputs": [
    {
     "name": "stderr",
     "output_type": "stream",
     "text": [
      "c:\\ProgramData\\Anaconda3\\lib\\site-packages\\seaborn\\distributions.py:2557: FutureWarning: `distplot` is a deprecated function and will be removed in a future version. Please adapt your code to use either `displot` (a figure-level function with similar flexibility) or `histplot` (an axes-level function for histograms).\n",
      "  warnings.warn(msg, FutureWarning)\n"
     ]
    },
    {
     "data": {
      "image/png": "[encoded data removed]",
      "text/plain": [
       "<Figure size 432x288 with 1 Axes>"
      ]
     },
     "metadata": {
      "needs_background": "light"
     },
     "output_type": "display_data"
    }
   ],
   "source": [
    "sns.distplot(E_hat_3, hist=True, kde=True, \n",
    "             bins=6, color = 'darkblue', \n",
    "             hist_kws={'edgecolor':'black'},\n",
    "             kde_kws={'linewidth': 4})\n",
    "plt.show()"
   ]
  },
  {
   "attachments": {},
   "cell_type": "markdown",
   "metadata": {},
   "source": [
    "## N6"
   ]
  },
  {
   "cell_type": "code",
   "execution_count": 1815,
   "metadata": {},
   "outputs": [
    {
     "data": {
      "text/plain": [
       "0.9456156478400527"
      ]
     },
     "execution_count": 1815,
     "metadata": {},
     "output_type": "execute_result"
    }
   ],
   "source": [
    "sigma_hat_3_sq = 1/n * norm(E_hat_3)**2\n",
    "sigma_hat_3_sq"
   ]
  },
  {
   "attachments": {},
   "cell_type": "markdown",
   "metadata": {},
   "source": [
    "## N7"
   ]
  },
  {
   "cell_type": "code",
   "execution_count": 1832,
   "metadata": {},
   "outputs": [],
   "source": [
    "l = 6\n",
    "step = (E_hat_3.max() -  E_hat_3.min()) / (l)"
   ]
  },
  {
   "cell_type": "code",
   "execution_count": 1833,
   "metadata": {},
   "outputs": [
    {
     "name": "stdout",
     "output_type": "stream",
     "text": [
      "5\n",
      "7\n",
      "14\n",
      "7\n",
      "4\n"
     ]
    }
   ],
   "source": [
    "prev = E_hat_3.min()\n",
    "edge = prev + step\n",
    "n_vec = []\n",
    "t = [prev]\n",
    "for i in range(l-1):\n",
    "    print (((prev <= E_hat_3) & (E_hat_3 <= edge)).sum())\n",
    "    n_vec.append(((prev <= E_hat_3) & (E_hat_3 <= edge)).sum())\n",
    "    t.append(edge)\n",
    "    prev = edge\n",
    "    edge += step\n",
    "    "
   ]
  },
  {
   "cell_type": "code",
   "execution_count": 1834,
   "metadata": {},
   "outputs": [],
   "source": [
    "t = np.array(t)\n",
    "n_vec = np.array(n_vec)\n",
    "p_hat = n_vec / n"
   ]
  },
  {
   "cell_type": "code",
   "execution_count": 1835,
   "metadata": {},
   "outputs": [],
   "source": [
    "p = []\n",
    "for i in range(l-1):\n",
    "    p.append(sp.stats.norm.cdf(t[i+1]/sigma_hat_3_sq) - sp.stats.norm.cdf(t[i]/sigma_hat_3_sq))\n",
    "p = np.array(p)"
   ]
  },
  {
   "cell_type": "code",
   "execution_count": 1836,
   "metadata": {},
   "outputs": [],
   "source": [
    "T_Z = (((p - p_hat)**2) / p).sum() * n"
   ]
  },
  {
   "cell_type": "code",
   "execution_count": 1837,
   "metadata": {},
   "outputs": [
    {
     "data": {
      "text/plain": [
       "2.7721600129386625"
      ]
     },
     "execution_count": 1837,
     "metadata": {},
     "output_type": "execute_result"
    }
   ],
   "source": [
    "T_Z"
   ]
  },
  {
   "attachments": {},
   "cell_type": "markdown",
   "metadata": {},
   "source": [
    "2.7721600129386625 < 14.067 гипотеза верна"
   ]
  }
 ],
 "metadata": {
  "kernelspec": {
   "display_name": "Python 3.8.8 ('base')",
   "language": "python",
   "name": "python3"
  },
  "language_info": {
   "codemirror_mode": {
    "name": "ipython",
    "version": 3
   },
   "file_extension": ".py",
   "mimetype": "text/x-python",
   "name": "python",
   "nbconvert_exporter": "python",
   "pygments_lexer": "ipython3",
   "version": "3.8.8"
  },
  "orig_nbformat": 4,
  "vscode": {
   "interpreter": {
    "hash": "ad2bdc8ecc057115af97d19610ffacc2b4e99fae6737bb82f5d7fb13d2f2c186"
   }
  }
 },
 "nbformat": 4,
 "nbformat_minor": 2
}
